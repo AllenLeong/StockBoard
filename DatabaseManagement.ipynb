{
 "cells": [
  {
   "cell_type": "code",
   "execution_count": 1,
   "metadata": {
    "ExecuteTime": {
     "end_time": "2021-08-11T10:03:08.539038Z",
     "start_time": "2021-08-11T10:03:07.944475Z"
    }
   },
   "outputs": [],
   "source": [
    "from pandas_datareader import data\n",
    "import pandas as pd\n",
    "from datetime import datetime\n",
    "import yfinance as yf"
   ]
  },
  {
   "cell_type": "code",
   "execution_count": 2,
   "metadata": {
    "ExecuteTime": {
     "end_time": "2021-08-11T10:03:09.990559Z",
     "start_time": "2021-08-11T10:03:09.986559Z"
    }
   },
   "outputs": [],
   "source": [
    "securities = {\n",
    "    'AAPL':'AAPL',\n",
    "    'SSEC':'000001.SS',\n",
    "    'DJI':'^DJI',\n",
    "    'SZC':'399001.SZ'\n",
    "}"
   ]
  },
  {
   "cell_type": "code",
   "execution_count": 3,
   "metadata": {
    "ExecuteTime": {
     "end_time": "2021-08-11T10:03:10.535002Z",
     "start_time": "2021-08-11T10:03:10.012595Z"
    }
   },
   "outputs": [
    {
     "name": "stdout",
     "output_type": "stream",
     "text": [
      "[*********************100%***********************]  1 of 1 completed\n"
     ]
    },
    {
     "data": {
      "text/html": [
       "<div>\n",
       "<style scoped>\n",
       "    .dataframe tbody tr th:only-of-type {\n",
       "        vertical-align: middle;\n",
       "    }\n",
       "\n",
       "    .dataframe tbody tr th {\n",
       "        vertical-align: top;\n",
       "    }\n",
       "\n",
       "    .dataframe thead th {\n",
       "        text-align: right;\n",
       "    }\n",
       "</style>\n",
       "<table border=\"1\" class=\"dataframe\">\n",
       "  <thead>\n",
       "    <tr style=\"text-align: right;\">\n",
       "      <th></th>\n",
       "      <th>Open</th>\n",
       "      <th>High</th>\n",
       "      <th>Low</th>\n",
       "      <th>Close</th>\n",
       "      <th>Adj Close</th>\n",
       "      <th>Volume</th>\n",
       "      <th>dif</th>\n",
       "      <th>Date</th>\n",
       "    </tr>\n",
       "    <tr>\n",
       "      <th>Date</th>\n",
       "      <th></th>\n",
       "      <th></th>\n",
       "      <th></th>\n",
       "      <th></th>\n",
       "      <th></th>\n",
       "      <th></th>\n",
       "      <th></th>\n",
       "      <th></th>\n",
       "    </tr>\n",
       "  </thead>\n",
       "  <tbody>\n",
       "    <tr>\n",
       "      <th>2021-01-13</th>\n",
       "      <td>15491.070312</td>\n",
       "      <td>15597.969727</td>\n",
       "      <td>15240.900391</td>\n",
       "      <td>15365.429688</td>\n",
       "      <td>15365.429688</td>\n",
       "      <td>2193700</td>\n",
       "      <td>0.000000</td>\n",
       "      <td>2021-01-13</td>\n",
       "    </tr>\n",
       "    <tr>\n",
       "      <th>2021-01-14</th>\n",
       "      <td>15283.559570</td>\n",
       "      <td>15354.120117</td>\n",
       "      <td>15033.469727</td>\n",
       "      <td>15070.129883</td>\n",
       "      <td>15070.129883</td>\n",
       "      <td>2011400</td>\n",
       "      <td>-295.299805</td>\n",
       "      <td>2021-01-14</td>\n",
       "    </tr>\n",
       "  </tbody>\n",
       "</table>\n",
       "</div>"
      ],
      "text/plain": [
       "                    Open          High           Low         Close  \\\n",
       "Date                                                                 \n",
       "2021-01-13  15491.070312  15597.969727  15240.900391  15365.429688   \n",
       "2021-01-14  15283.559570  15354.120117  15033.469727  15070.129883   \n",
       "\n",
       "               Adj Close   Volume         dif       Date  \n",
       "Date                                                      \n",
       "2021-01-13  15365.429688  2193700    0.000000 2021-01-13  \n",
       "2021-01-14  15070.129883  2011400 -295.299805 2021-01-14  "
      ]
     },
     "execution_count": 3,
     "metadata": {},
     "output_type": "execute_result"
    }
   ],
   "source": [
    "def YahooReader(security,start_date, end_date):\n",
    "    df = yf.download(securities[security], start_date, end_date)\n",
    "    df['dif'] = df.Close.diff()\n",
    "    df['Date'] = df.index\n",
    "    df = df.fillna(0)\n",
    "    return df \n",
    "df = YahooReader('SZC','2021-01-13', '2021-01-15')\n",
    "df"
   ]
  },
  {
   "cell_type": "code",
   "execution_count": 4,
   "metadata": {
    "ExecuteTime": {
     "end_time": "2021-07-16T15:31:50.304048Z",
     "start_time": "2021-07-16T15:31:47.176987Z"
    },
    "hide_input": false
   },
   "outputs": [
    {
     "ename": "RemoteDataError",
     "evalue": "Unable to read URL: https://finance.yahoo.com/quote/000001.SS/history?period1=1610481600&period2=1610740799&interval=1d&frequency=1d&filter=history\nResponse Text:\nb'<!DOCTYPE html>\\n  <html lang=\"en-us\"><head>\\n  <meta http-equiv=\"content-type\" content=\"text/html; charset=UTF-8\">\\n      <meta charset=\"utf-8\">\\n      <title>Yahoo</title>\\n      <meta name=\"viewport\" content=\"width=device-width,initial-scale=1,minimal-ui\">\\n      <meta http-equiv=\"X-UA-Compatible\" content=\"IE=edge,chrome=1\">\\n      <style>\\n  html {\\n      height: 100%;\\n  }\\n  body {\\n      background: #fafafc url(https://s.yimg.com/nn/img/sad-panda-201402200631.png) 50% 50%;\\n      background-size: cover;\\n      height: 100%;\\n      text-align: center;\\n      font: 300 18px \"helvetica neue\", helvetica, verdana, tahoma, arial, sans-serif;\\n  }\\n  table {\\n      height: 100%;\\n      width: 100%;\\n      table-layout: fixed;\\n      border-collapse: collapse;\\n      border-spacing: 0;\\n      border: none;\\n  }\\n  h1 {\\n      font-size: 42px;\\n      font-weight: 400;\\n      color: #400090;\\n  }\\n  p {\\n      color: #1A1A1A;\\n  }\\n  #message-1 {\\n      font-weight: bold;\\n      margin: 0;\\n  }\\n  #message-2 {\\n      display: inline-block;\\n      *display: inline;\\n      zoom: 1;\\n      max-width: 17em;\\n      _width: 17em;\\n  }\\n      </style>\\n  <script>\\n    document.write(\\'<img src=\"//geo.yahoo.com/b?s=1197757129&t=\\'+new Date().getTime()+\\'&src=aws&err_url=\\'+encodeURIComponent(document.URL)+\\'&err=%<pssc>&test=\\'+encodeURIComponent(\\'%<{Bucket}cqh[:200]>\\')+\\'\" width=\"0px\" height=\"0px\"/>\\');var beacon = new Image();beacon.src=\"//bcn.fp.yahoo.com/p?s=1197757129&t=\"+new Date().getTime()+\"&src=aws&err_url=\"+encodeURIComponent(document.URL)+\"&err=%<pssc>&test=\"+encodeURIComponent(\\'%<{Bucket}cqh[:200]>\\');\\n  </script>\\n  </head>\\n  <body>\\n  <!-- status code : 404 -->\\n  <!-- Not Found on Server -->\\n  <table>\\n  <tbody><tr>\\n      <td>\\n      <img src=\"https://s.yimg.com/rz/p/yahoo_frontpage_en-US_s_f_p_205x58_frontpage.png\" alt=\"Yahoo Logo\">\\n      <h1 style=\"margin-top:20px;\">Will be right back...</h1>\\n      <p id=\"message-1\">Thank you for your patience.</p>\\n      <p id=\"message-2\">Our engineers are working quickly to resolve the issue.</p>\\n      </td>\\n  </tr>\\n  </tbody></table>\\n  </body></html>'",
     "output_type": "error",
     "traceback": [
      "\u001b[1;31m---------------------------------------------------------------------------\u001b[0m",
      "\u001b[1;31mRemoteDataError\u001b[0m                           Traceback (most recent call last)",
      "\u001b[1;32m<ipython-input-4-47a30d9b374f>\u001b[0m in \u001b[0;36m<module>\u001b[1;34m\u001b[0m\n\u001b[0;32m     10\u001b[0m     \u001b[0mdf\u001b[0m \u001b[1;33m=\u001b[0m \u001b[0mdf\u001b[0m\u001b[1;33m.\u001b[0m\u001b[0mfillna\u001b[0m\u001b[1;33m(\u001b[0m\u001b[1;36m0\u001b[0m\u001b[1;33m)\u001b[0m\u001b[1;33m\u001b[0m\u001b[1;33m\u001b[0m\u001b[0m\n\u001b[0;32m     11\u001b[0m     \u001b[1;32mreturn\u001b[0m \u001b[0mdf\u001b[0m\u001b[1;33m\u001b[0m\u001b[1;33m\u001b[0m\u001b[0m\n\u001b[1;32m---> 12\u001b[1;33m \u001b[0mdf\u001b[0m \u001b[1;33m=\u001b[0m \u001b[0mYahooReader\u001b[0m\u001b[1;33m(\u001b[0m\u001b[1;34m'SSEC'\u001b[0m\u001b[1;33m,\u001b[0m\u001b[1;34m'2021-01-13'\u001b[0m\u001b[1;33m,\u001b[0m \u001b[1;34m'2021-01-15'\u001b[0m\u001b[1;33m)\u001b[0m\u001b[1;33m\u001b[0m\u001b[1;33m\u001b[0m\u001b[0m\n\u001b[0m\u001b[0;32m     13\u001b[0m \u001b[0mdf\u001b[0m\u001b[1;33m\u001b[0m\u001b[1;33m\u001b[0m\u001b[0m\n",
      "\u001b[1;32m<ipython-input-4-47a30d9b374f>\u001b[0m in \u001b[0;36mYahooReader\u001b[1;34m(security, start_date, end_date)\u001b[0m\n\u001b[0;32m      5\u001b[0m \u001b[1;32mdef\u001b[0m \u001b[0mYahooReader\u001b[0m\u001b[1;33m(\u001b[0m\u001b[0msecurity\u001b[0m\u001b[1;33m,\u001b[0m\u001b[0mstart_date\u001b[0m\u001b[1;33m,\u001b[0m \u001b[0mend_date\u001b[0m\u001b[1;33m)\u001b[0m\u001b[1;33m:\u001b[0m\u001b[1;33m\u001b[0m\u001b[1;33m\u001b[0m\u001b[0m\n\u001b[0;32m      6\u001b[0m \u001b[1;33m\u001b[0m\u001b[0m\n\u001b[1;32m----> 7\u001b[1;33m     \u001b[0mdf\u001b[0m \u001b[1;33m=\u001b[0m \u001b[0mdata\u001b[0m\u001b[1;33m.\u001b[0m\u001b[0mDataReader\u001b[0m\u001b[1;33m(\u001b[0m\u001b[0msecurities\u001b[0m\u001b[1;33m[\u001b[0m\u001b[0msecurity\u001b[0m\u001b[1;33m]\u001b[0m\u001b[1;33m,\u001b[0m\u001b[1;34m'yahoo'\u001b[0m\u001b[1;33m,\u001b[0m \u001b[0mstart_date\u001b[0m\u001b[1;33m,\u001b[0m \u001b[0mend_date\u001b[0m\u001b[1;33m)\u001b[0m\u001b[1;33m\u001b[0m\u001b[1;33m\u001b[0m\u001b[0m\n\u001b[0m\u001b[0;32m      8\u001b[0m     \u001b[0mdf\u001b[0m\u001b[1;33m[\u001b[0m\u001b[1;34m'dif'\u001b[0m\u001b[1;33m]\u001b[0m \u001b[1;33m=\u001b[0m \u001b[0mdf\u001b[0m\u001b[1;33m.\u001b[0m\u001b[0mClose\u001b[0m\u001b[1;33m.\u001b[0m\u001b[0mdiff\u001b[0m\u001b[1;33m(\u001b[0m\u001b[1;33m)\u001b[0m\u001b[1;33m\u001b[0m\u001b[1;33m\u001b[0m\u001b[0m\n\u001b[0;32m      9\u001b[0m     \u001b[0mdf\u001b[0m\u001b[1;33m[\u001b[0m\u001b[1;34m'Date'\u001b[0m\u001b[1;33m]\u001b[0m \u001b[1;33m=\u001b[0m \u001b[0mdf\u001b[0m\u001b[1;33m.\u001b[0m\u001b[0mindex\u001b[0m\u001b[1;33m\u001b[0m\u001b[1;33m\u001b[0m\u001b[0m\n",
      "\u001b[1;32md:\\python37\\lib\\site-packages\\pandas\\util\\_decorators.py\u001b[0m in \u001b[0;36mwrapper\u001b[1;34m(*args, **kwargs)\u001b[0m\n\u001b[0;32m    197\u001b[0m                 \u001b[1;32melse\u001b[0m\u001b[1;33m:\u001b[0m\u001b[1;33m\u001b[0m\u001b[1;33m\u001b[0m\u001b[0m\n\u001b[0;32m    198\u001b[0m                     \u001b[0mkwargs\u001b[0m\u001b[1;33m[\u001b[0m\u001b[0mnew_arg_name\u001b[0m\u001b[1;33m]\u001b[0m \u001b[1;33m=\u001b[0m \u001b[0mnew_arg_value\u001b[0m\u001b[1;33m\u001b[0m\u001b[1;33m\u001b[0m\u001b[0m\n\u001b[1;32m--> 199\u001b[1;33m             \u001b[1;32mreturn\u001b[0m \u001b[0mfunc\u001b[0m\u001b[1;33m(\u001b[0m\u001b[1;33m*\u001b[0m\u001b[0margs\u001b[0m\u001b[1;33m,\u001b[0m \u001b[1;33m**\u001b[0m\u001b[0mkwargs\u001b[0m\u001b[1;33m)\u001b[0m\u001b[1;33m\u001b[0m\u001b[1;33m\u001b[0m\u001b[0m\n\u001b[0m\u001b[0;32m    200\u001b[0m \u001b[1;33m\u001b[0m\u001b[0m\n\u001b[0;32m    201\u001b[0m         \u001b[1;32mreturn\u001b[0m \u001b[0mcast\u001b[0m\u001b[1;33m(\u001b[0m\u001b[0mF\u001b[0m\u001b[1;33m,\u001b[0m \u001b[0mwrapper\u001b[0m\u001b[1;33m)\u001b[0m\u001b[1;33m\u001b[0m\u001b[1;33m\u001b[0m\u001b[0m\n",
      "\u001b[1;32md:\\python37\\lib\\site-packages\\pandas_datareader\\data.py\u001b[0m in \u001b[0;36mDataReader\u001b[1;34m(name, data_source, start, end, retry_count, pause, session, api_key)\u001b[0m\n\u001b[0;32m    382\u001b[0m             \u001b[0mretry_count\u001b[0m\u001b[1;33m=\u001b[0m\u001b[0mretry_count\u001b[0m\u001b[1;33m,\u001b[0m\u001b[1;33m\u001b[0m\u001b[1;33m\u001b[0m\u001b[0m\n\u001b[0;32m    383\u001b[0m             \u001b[0mpause\u001b[0m\u001b[1;33m=\u001b[0m\u001b[0mpause\u001b[0m\u001b[1;33m,\u001b[0m\u001b[1;33m\u001b[0m\u001b[1;33m\u001b[0m\u001b[0m\n\u001b[1;32m--> 384\u001b[1;33m             \u001b[0msession\u001b[0m\u001b[1;33m=\u001b[0m\u001b[0msession\u001b[0m\u001b[1;33m,\u001b[0m\u001b[1;33m\u001b[0m\u001b[1;33m\u001b[0m\u001b[0m\n\u001b[0m\u001b[0;32m    385\u001b[0m         ).read()\n\u001b[0;32m    386\u001b[0m \u001b[1;33m\u001b[0m\u001b[0m\n",
      "\u001b[1;32md:\\python37\\lib\\site-packages\\pandas_datareader\\base.py\u001b[0m in \u001b[0;36mread\u001b[1;34m(self)\u001b[0m\n\u001b[0;32m    251\u001b[0m         \u001b[1;31m# If a single symbol, (e.g., 'GOOG')\u001b[0m\u001b[1;33m\u001b[0m\u001b[1;33m\u001b[0m\u001b[1;33m\u001b[0m\u001b[0m\n\u001b[0;32m    252\u001b[0m         \u001b[1;32mif\u001b[0m \u001b[0misinstance\u001b[0m\u001b[1;33m(\u001b[0m\u001b[0mself\u001b[0m\u001b[1;33m.\u001b[0m\u001b[0msymbols\u001b[0m\u001b[1;33m,\u001b[0m \u001b[1;33m(\u001b[0m\u001b[0mstring_types\u001b[0m\u001b[1;33m,\u001b[0m \u001b[0mint\u001b[0m\u001b[1;33m)\u001b[0m\u001b[1;33m)\u001b[0m\u001b[1;33m:\u001b[0m\u001b[1;33m\u001b[0m\u001b[1;33m\u001b[0m\u001b[0m\n\u001b[1;32m--> 253\u001b[1;33m             \u001b[0mdf\u001b[0m \u001b[1;33m=\u001b[0m \u001b[0mself\u001b[0m\u001b[1;33m.\u001b[0m\u001b[0m_read_one_data\u001b[0m\u001b[1;33m(\u001b[0m\u001b[0mself\u001b[0m\u001b[1;33m.\u001b[0m\u001b[0murl\u001b[0m\u001b[1;33m,\u001b[0m \u001b[0mparams\u001b[0m\u001b[1;33m=\u001b[0m\u001b[0mself\u001b[0m\u001b[1;33m.\u001b[0m\u001b[0m_get_params\u001b[0m\u001b[1;33m(\u001b[0m\u001b[0mself\u001b[0m\u001b[1;33m.\u001b[0m\u001b[0msymbols\u001b[0m\u001b[1;33m)\u001b[0m\u001b[1;33m)\u001b[0m\u001b[1;33m\u001b[0m\u001b[1;33m\u001b[0m\u001b[0m\n\u001b[0m\u001b[0;32m    254\u001b[0m         \u001b[1;31m# Or multiple symbols, (e.g., ['GOOG', 'AAPL', 'MSFT'])\u001b[0m\u001b[1;33m\u001b[0m\u001b[1;33m\u001b[0m\u001b[1;33m\u001b[0m\u001b[0m\n\u001b[0;32m    255\u001b[0m         \u001b[1;32melif\u001b[0m \u001b[0misinstance\u001b[0m\u001b[1;33m(\u001b[0m\u001b[0mself\u001b[0m\u001b[1;33m.\u001b[0m\u001b[0msymbols\u001b[0m\u001b[1;33m,\u001b[0m \u001b[0mDataFrame\u001b[0m\u001b[1;33m)\u001b[0m\u001b[1;33m:\u001b[0m\u001b[1;33m\u001b[0m\u001b[1;33m\u001b[0m\u001b[0m\n",
      "\u001b[1;32md:\\python37\\lib\\site-packages\\pandas_datareader\\yahoo\\daily.py\u001b[0m in \u001b[0;36m_read_one_data\u001b[1;34m(self, url, params)\u001b[0m\n\u001b[0;32m    151\u001b[0m         \u001b[0murl\u001b[0m \u001b[1;33m=\u001b[0m \u001b[0murl\u001b[0m\u001b[1;33m.\u001b[0m\u001b[0mformat\u001b[0m\u001b[1;33m(\u001b[0m\u001b[0msymbol\u001b[0m\u001b[1;33m)\u001b[0m\u001b[1;33m\u001b[0m\u001b[1;33m\u001b[0m\u001b[0m\n\u001b[0;32m    152\u001b[0m \u001b[1;33m\u001b[0m\u001b[0m\n\u001b[1;32m--> 153\u001b[1;33m         \u001b[0mresp\u001b[0m \u001b[1;33m=\u001b[0m \u001b[0mself\u001b[0m\u001b[1;33m.\u001b[0m\u001b[0m_get_response\u001b[0m\u001b[1;33m(\u001b[0m\u001b[0murl\u001b[0m\u001b[1;33m,\u001b[0m \u001b[0mparams\u001b[0m\u001b[1;33m=\u001b[0m\u001b[0mparams\u001b[0m\u001b[1;33m)\u001b[0m\u001b[1;33m\u001b[0m\u001b[1;33m\u001b[0m\u001b[0m\n\u001b[0m\u001b[0;32m    154\u001b[0m         \u001b[0mptrn\u001b[0m \u001b[1;33m=\u001b[0m \u001b[1;34mr\"root\\.App\\.main = (.*?);\\n}\\(this\\)\\);\"\u001b[0m\u001b[1;33m\u001b[0m\u001b[1;33m\u001b[0m\u001b[0m\n\u001b[0;32m    155\u001b[0m         \u001b[1;32mtry\u001b[0m\u001b[1;33m:\u001b[0m\u001b[1;33m\u001b[0m\u001b[1;33m\u001b[0m\u001b[0m\n",
      "\u001b[1;32md:\\python37\\lib\\site-packages\\pandas_datareader\\base.py\u001b[0m in \u001b[0;36m_get_response\u001b[1;34m(self, url, params, headers)\u001b[0m\n\u001b[0;32m    179\u001b[0m             \u001b[0mmsg\u001b[0m \u001b[1;33m+=\u001b[0m \u001b[1;34m\"\\nResponse Text:\\n{0}\"\u001b[0m\u001b[1;33m.\u001b[0m\u001b[0mformat\u001b[0m\u001b[1;33m(\u001b[0m\u001b[0mlast_response_text\u001b[0m\u001b[1;33m)\u001b[0m\u001b[1;33m\u001b[0m\u001b[1;33m\u001b[0m\u001b[0m\n\u001b[0;32m    180\u001b[0m \u001b[1;33m\u001b[0m\u001b[0m\n\u001b[1;32m--> 181\u001b[1;33m         \u001b[1;32mraise\u001b[0m \u001b[0mRemoteDataError\u001b[0m\u001b[1;33m(\u001b[0m\u001b[0mmsg\u001b[0m\u001b[1;33m)\u001b[0m\u001b[1;33m\u001b[0m\u001b[1;33m\u001b[0m\u001b[0m\n\u001b[0m\u001b[0;32m    182\u001b[0m \u001b[1;33m\u001b[0m\u001b[0m\n\u001b[0;32m    183\u001b[0m     \u001b[1;32mdef\u001b[0m \u001b[0m_get_crumb\u001b[0m\u001b[1;33m(\u001b[0m\u001b[0mself\u001b[0m\u001b[1;33m,\u001b[0m \u001b[1;33m*\u001b[0m\u001b[0margs\u001b[0m\u001b[1;33m)\u001b[0m\u001b[1;33m:\u001b[0m\u001b[1;33m\u001b[0m\u001b[1;33m\u001b[0m\u001b[0m\n",
      "\u001b[1;31mRemoteDataError\u001b[0m: Unable to read URL: https://finance.yahoo.com/quote/000001.SS/history?period1=1610481600&period2=1610740799&interval=1d&frequency=1d&filter=history\nResponse Text:\nb'<!DOCTYPE html>\\n  <html lang=\"en-us\"><head>\\n  <meta http-equiv=\"content-type\" content=\"text/html; charset=UTF-8\">\\n      <meta charset=\"utf-8\">\\n      <title>Yahoo</title>\\n      <meta name=\"viewport\" content=\"width=device-width,initial-scale=1,minimal-ui\">\\n      <meta http-equiv=\"X-UA-Compatible\" content=\"IE=edge,chrome=1\">\\n      <style>\\n  html {\\n      height: 100%;\\n  }\\n  body {\\n      background: #fafafc url(https://s.yimg.com/nn/img/sad-panda-201402200631.png) 50% 50%;\\n      background-size: cover;\\n      height: 100%;\\n      text-align: center;\\n      font: 300 18px \"helvetica neue\", helvetica, verdana, tahoma, arial, sans-serif;\\n  }\\n  table {\\n      height: 100%;\\n      width: 100%;\\n      table-layout: fixed;\\n      border-collapse: collapse;\\n      border-spacing: 0;\\n      border: none;\\n  }\\n  h1 {\\n      font-size: 42px;\\n      font-weight: 400;\\n      color: #400090;\\n  }\\n  p {\\n      color: #1A1A1A;\\n  }\\n  #message-1 {\\n      font-weight: bold;\\n      margin: 0;\\n  }\\n  #message-2 {\\n      display: inline-block;\\n      *display: inline;\\n      zoom: 1;\\n      max-width: 17em;\\n      _width: 17em;\\n  }\\n      </style>\\n  <script>\\n    document.write(\\'<img src=\"//geo.yahoo.com/b?s=1197757129&t=\\'+new Date().getTime()+\\'&src=aws&err_url=\\'+encodeURIComponent(document.URL)+\\'&err=%<pssc>&test=\\'+encodeURIComponent(\\'%<{Bucket}cqh[:200]>\\')+\\'\" width=\"0px\" height=\"0px\"/>\\');var beacon = new Image();beacon.src=\"//bcn.fp.yahoo.com/p?s=1197757129&t=\"+new Date().getTime()+\"&src=aws&err_url=\"+encodeURIComponent(document.URL)+\"&err=%<pssc>&test=\"+encodeURIComponent(\\'%<{Bucket}cqh[:200]>\\');\\n  </script>\\n  </head>\\n  <body>\\n  <!-- status code : 404 -->\\n  <!-- Not Found on Server -->\\n  <table>\\n  <tbody><tr>\\n      <td>\\n      <img src=\"https://s.yimg.com/rz/p/yahoo_frontpage_en-US_s_f_p_205x58_frontpage.png\" alt=\"Yahoo Logo\">\\n      <h1 style=\"margin-top:20px;\">Will be right back...</h1>\\n      <p id=\"message-1\">Thank you for your patience.</p>\\n      <p id=\"message-2\">Our engineers are working quickly to resolve the issue.</p>\\n      </td>\\n  </tr>\\n  </tbody></table>\\n  </body></html>'"
     ]
    }
   ],
   "source": [
    "start_date = '2016-01-01'\n",
    "end_date = '2021-01-14'\n",
    "\n",
    "from pandas_datareader import data\n",
    "def YahooReader(security,start_date, end_date):\n",
    "    df = data.DataReader(securities[security],'yahoo', start_date, end_date)\n",
    "    df['dif'] = df.Close.diff()\n",
    "    df['Date'] = df.index\n",
    "    df = df.fillna(0)\n",
    "    return df \n",
    "df = YahooReader('SSEC','2021-01-13', '2021-01-15')\n",
    "df"
   ]
  },
  {
   "cell_type": "code",
   "execution_count": 4,
   "metadata": {
    "ExecuteTime": {
     "end_time": "2021-01-14T14:25:07.652431Z",
     "start_time": "2021-01-14T14:25:07.645413Z"
    }
   },
   "outputs": [],
   "source": [
    "import sqlite3 as sql"
   ]
  },
  {
   "cell_type": "code",
   "execution_count": 5,
   "metadata": {
    "ExecuteTime": {
     "end_time": "2021-01-14T14:25:07.909045Z",
     "start_time": "2021-01-14T14:25:07.904068Z"
    }
   },
   "outputs": [],
   "source": [
    "conn = sql.connect('stock')"
   ]
  },
  {
   "cell_type": "code",
   "execution_count": 6,
   "metadata": {
    "ExecuteTime": {
     "end_time": "2021-01-14T14:25:08.094406Z",
     "start_time": "2021-01-14T14:25:08.087572Z"
    }
   },
   "outputs": [],
   "source": [
    "def make_stocktable(con,table_name):\n",
    "    make_table_sql = \"\"\"\n",
    "    CREATE TABLE %s (\n",
    "        High Double,\n",
    "        Low Double,\n",
    "        Open Double,\n",
    "        Close Double,\n",
    "        Volume Double,\n",
    "        Adj_Close Double,\n",
    "        dif Double,\n",
    "        Date TIMESTAMP PRIMARY KEY\n",
    "    )\n",
    "    \"\"\"%table_name\n",
    "\n",
    "    con.execute(make_table_sql)\n",
    "    con.commit()"
   ]
  },
  {
   "cell_type": "code",
   "execution_count": 7,
   "metadata": {
    "ExecuteTime": {
     "end_time": "2021-01-14T14:25:08.264201Z",
     "start_time": "2021-01-14T14:25:08.239158Z"
    }
   },
   "outputs": [],
   "source": [
    "def drop_table(con,table_name):\n",
    "    con.execute('Drop table {}'.format(table_name))\n",
    "    con.commit()\n",
    "drop_table(conn, 'DJI')"
   ]
  },
  {
   "cell_type": "code",
   "execution_count": 8,
   "metadata": {
    "ExecuteTime": {
     "end_time": "2021-01-14T14:25:08.412734Z",
     "start_time": "2021-01-14T14:25:08.404739Z"
    }
   },
   "outputs": [],
   "source": [
    "def insert_stocktable(df,con,table_name):\n",
    "    for i in range(len(df)):\n",
    "        dates = pd.read_sql_query(\"SELECT Date from %s\"%table_name, con)\n",
    "        con.commit()\n",
    "        values = [table_name]+list(df.iloc[i,:-1])+[\"'\"+str(df.iloc[i,-1])+\"'\"]\n",
    "        if values[-1] not in dates:\n",
    "            sql_script = \"INSERT INTO {}(High,Low,Open,Close,Volume,Adj_Close,dif,Date) VALUES ({},{},{},{},{},{},{},{})\".format(*values)\n",
    "            try:\n",
    "                con.execute(sql_script)\n",
    "            except:\n",
    "                pass\n",
    "            con.commit()"
   ]
  },
  {
   "cell_type": "code",
   "execution_count": 40,
   "metadata": {
    "ExecuteTime": {
     "end_time": "2021-01-15T02:45:49.333692Z",
     "start_time": "2021-01-15T02:45:49.243602Z"
    }
   },
   "outputs": [
    {
     "data": {
      "text/html": [
       "<div>\n",
       "<style scoped>\n",
       "    .dataframe tbody tr th:only-of-type {\n",
       "        vertical-align: middle;\n",
       "    }\n",
       "\n",
       "    .dataframe tbody tr th {\n",
       "        vertical-align: top;\n",
       "    }\n",
       "\n",
       "    .dataframe thead th {\n",
       "        text-align: right;\n",
       "    }\n",
       "</style>\n",
       "<table border=\"1\" class=\"dataframe\">\n",
       "  <thead>\n",
       "    <tr style=\"text-align: right;\">\n",
       "      <th></th>\n",
       "      <th>High</th>\n",
       "      <th>Low</th>\n",
       "      <th>Open</th>\n",
       "      <th>Close</th>\n",
       "      <th>Volume</th>\n",
       "      <th>Adj_Close</th>\n",
       "      <th>dif</th>\n",
       "      <th>Date</th>\n",
       "    </tr>\n",
       "    <tr>\n",
       "      <th>Date</th>\n",
       "      <th></th>\n",
       "      <th></th>\n",
       "      <th></th>\n",
       "      <th></th>\n",
       "      <th></th>\n",
       "      <th></th>\n",
       "      <th></th>\n",
       "      <th></th>\n",
       "    </tr>\n",
       "  </thead>\n",
       "  <tbody>\n",
       "    <tr>\n",
       "      <th>2016-01-04</th>\n",
       "      <td>3538.688965</td>\n",
       "      <td>3295.740967</td>\n",
       "      <td>3536.589111</td>\n",
       "      <td>3296.258057</td>\n",
       "      <td>184400.0</td>\n",
       "      <td>3296.258057</td>\n",
       "      <td>0.000000</td>\n",
       "      <td>2016-01-04</td>\n",
       "    </tr>\n",
       "    <tr>\n",
       "      <th>2016-01-05</th>\n",
       "      <td>3328.138916</td>\n",
       "      <td>3189.604980</td>\n",
       "      <td>3196.650879</td>\n",
       "      <td>3287.710938</td>\n",
       "      <td>266900.0</td>\n",
       "      <td>3287.710938</td>\n",
       "      <td>-8.547119</td>\n",
       "      <td>2016-01-05</td>\n",
       "    </tr>\n",
       "    <tr>\n",
       "      <th>2016-01-06</th>\n",
       "      <td>3362.974121</td>\n",
       "      <td>3288.933105</td>\n",
       "      <td>3291.195068</td>\n",
       "      <td>3361.840088</td>\n",
       "      <td>238900.0</td>\n",
       "      <td>3361.840088</td>\n",
       "      <td>74.129150</td>\n",
       "      <td>2016-01-06</td>\n",
       "    </tr>\n",
       "    <tr>\n",
       "      <th>2016-01-07</th>\n",
       "      <td>3309.656982</td>\n",
       "      <td>3115.885010</td>\n",
       "      <td>3309.656982</td>\n",
       "      <td>3125.001953</td>\n",
       "      <td>70600.0</td>\n",
       "      <td>3125.001953</td>\n",
       "      <td>-236.838135</td>\n",
       "      <td>2016-01-07</td>\n",
       "    </tr>\n",
       "    <tr>\n",
       "      <th>2016-01-08</th>\n",
       "      <td>3235.450928</td>\n",
       "      <td>3056.877930</td>\n",
       "      <td>3194.625000</td>\n",
       "      <td>3186.412109</td>\n",
       "      <td>286400.0</td>\n",
       "      <td>3186.412109</td>\n",
       "      <td>61.410156</td>\n",
       "      <td>2016-01-08</td>\n",
       "    </tr>\n",
       "    <tr>\n",
       "      <th>...</th>\n",
       "      <td>...</td>\n",
       "      <td>...</td>\n",
       "      <td>...</td>\n",
       "      <td>...</td>\n",
       "      <td>...</td>\n",
       "      <td>...</td>\n",
       "      <td>...</td>\n",
       "      <td>...</td>\n",
       "    </tr>\n",
       "    <tr>\n",
       "      <th>2020-01-06</th>\n",
       "      <td>3107.202881</td>\n",
       "      <td>3065.309082</td>\n",
       "      <td>3070.908936</td>\n",
       "      <td>3083.407959</td>\n",
       "      <td>312600.0</td>\n",
       "      <td>3083.407959</td>\n",
       "      <td>-0.377930</td>\n",
       "      <td>2020-01-06</td>\n",
       "    </tr>\n",
       "    <tr>\n",
       "      <th>2020-01-07</th>\n",
       "      <td>3105.450928</td>\n",
       "      <td>3084.329102</td>\n",
       "      <td>3085.488037</td>\n",
       "      <td>3104.802002</td>\n",
       "      <td>276600.0</td>\n",
       "      <td>3104.802002</td>\n",
       "      <td>21.394043</td>\n",
       "      <td>2020-01-07</td>\n",
       "    </tr>\n",
       "    <tr>\n",
       "      <th>2020-01-08</th>\n",
       "      <td>3094.239014</td>\n",
       "      <td>3059.131104</td>\n",
       "      <td>3094.239014</td>\n",
       "      <td>3066.893066</td>\n",
       "      <td>297900.0</td>\n",
       "      <td>3066.893066</td>\n",
       "      <td>-37.908936</td>\n",
       "      <td>2020-01-08</td>\n",
       "    </tr>\n",
       "    <tr>\n",
       "      <th>2020-01-09</th>\n",
       "      <td>3097.329102</td>\n",
       "      <td>3080.131104</td>\n",
       "      <td>3082.639893</td>\n",
       "      <td>3094.882080</td>\n",
       "      <td>243400.0</td>\n",
       "      <td>3094.882080</td>\n",
       "      <td>27.989014</td>\n",
       "      <td>2020-01-09</td>\n",
       "    </tr>\n",
       "    <tr>\n",
       "      <th>2020-01-10</th>\n",
       "      <td>3105.225098</td>\n",
       "      <td>3081.395996</td>\n",
       "      <td>3102.293945</td>\n",
       "      <td>3092.291016</td>\n",
       "      <td>210400.0</td>\n",
       "      <td>3092.291016</td>\n",
       "      <td>-2.591064</td>\n",
       "      <td>2020-01-10</td>\n",
       "    </tr>\n",
       "  </tbody>\n",
       "</table>\n",
       "<p>980 rows × 8 columns</p>\n",
       "</div>"
      ],
      "text/plain": [
       "                   High          Low         Open        Close    Volume  \\\n",
       "Date                                                                       \n",
       "2016-01-04  3538.688965  3295.740967  3536.589111  3296.258057  184400.0   \n",
       "2016-01-05  3328.138916  3189.604980  3196.650879  3287.710938  266900.0   \n",
       "2016-01-06  3362.974121  3288.933105  3291.195068  3361.840088  238900.0   \n",
       "2016-01-07  3309.656982  3115.885010  3309.656982  3125.001953   70600.0   \n",
       "2016-01-08  3235.450928  3056.877930  3194.625000  3186.412109  286400.0   \n",
       "...                 ...          ...          ...          ...       ...   \n",
       "2020-01-06  3107.202881  3065.309082  3070.908936  3083.407959  312600.0   \n",
       "2020-01-07  3105.450928  3084.329102  3085.488037  3104.802002  276600.0   \n",
       "2020-01-08  3094.239014  3059.131104  3094.239014  3066.893066  297900.0   \n",
       "2020-01-09  3097.329102  3080.131104  3082.639893  3094.882080  243400.0   \n",
       "2020-01-10  3105.225098  3081.395996  3102.293945  3092.291016  210400.0   \n",
       "\n",
       "              Adj_Close         dif       Date  \n",
       "Date                                            \n",
       "2016-01-04  3296.258057    0.000000 2016-01-04  \n",
       "2016-01-05  3287.710938   -8.547119 2016-01-05  \n",
       "2016-01-06  3361.840088   74.129150 2016-01-06  \n",
       "2016-01-07  3125.001953 -236.838135 2016-01-07  \n",
       "2016-01-08  3186.412109   61.410156 2016-01-08  \n",
       "...                 ...         ...        ...  \n",
       "2020-01-06  3083.407959   -0.377930 2020-01-06  \n",
       "2020-01-07  3104.802002   21.394043 2020-01-07  \n",
       "2020-01-08  3066.893066  -37.908936 2020-01-08  \n",
       "2020-01-09  3094.882080   27.989014 2020-01-09  \n",
       "2020-01-10  3092.291016   -2.591064 2020-01-10  \n",
       "\n",
       "[980 rows x 8 columns]"
      ]
     },
     "execution_count": 40,
     "metadata": {},
     "output_type": "execute_result"
    }
   ],
   "source": [
    "data= pd.read_sql_query(\"SELECT * from SSEC\", conn)\n",
    "data['Date'] = pd.to_datetime(data.Date)\n",
    "data.index = data.Date\n",
    "data"
   ]
  },
  {
   "cell_type": "code",
   "execution_count": 13,
   "metadata": {
    "ExecuteTime": {
     "end_time": "2021-01-14T14:26:05.838113Z",
     "start_time": "2021-01-14T14:26:05.815112Z"
    }
   },
   "outputs": [
    {
     "data": {
      "text/plain": [
       "datetime.date(2016, 1, 4)"
      ]
     },
     "execution_count": 13,
     "metadata": {},
     "output_type": "execute_result"
    }
   ],
   "source": [
    "a = data.index[0]\n",
    "a.date()"
   ]
  },
  {
   "cell_type": "code",
   "execution_count": 14,
   "metadata": {
    "ExecuteTime": {
     "end_time": "2021-01-14T14:26:06.975061Z",
     "start_time": "2021-01-14T14:26:06.963060Z"
    }
   },
   "outputs": [],
   "source": [
    "a = '2015-12-31 00:00:00'"
   ]
  },
  {
   "cell_type": "code",
   "execution_count": 15,
   "metadata": {
    "ExecuteTime": {
     "end_time": "2021-01-14T14:26:07.625811Z",
     "start_time": "2021-01-14T14:26:07.596812Z"
    }
   },
   "outputs": [
    {
     "data": {
      "text/plain": [
       "True"
      ]
     },
     "execution_count": 15,
     "metadata": {},
     "output_type": "execute_result"
    }
   ],
   "source": [
    "import datetime\n",
    "today = pd.Timestamp(datetime.datetime.today().date())\n",
    "today > df.Date[-2]"
   ]
  },
  {
   "cell_type": "code",
   "execution_count": 16,
   "metadata": {
    "ExecuteTime": {
     "end_time": "2021-01-14T14:26:08.487226Z",
     "start_time": "2021-01-14T14:26:08.477214Z"
    }
   },
   "outputs": [
    {
     "data": {
      "text/plain": [
       "Timestamp('2021-01-14 00:00:00')"
      ]
     },
     "execution_count": 16,
     "metadata": {},
     "output_type": "execute_result"
    }
   ],
   "source": [
    "data.index[-1]"
   ]
  },
  {
   "cell_type": "code",
   "execution_count": 17,
   "metadata": {
    "ExecuteTime": {
     "end_time": "2021-01-14T14:26:08.978022Z",
     "start_time": "2021-01-14T14:26:08.951026Z"
    }
   },
   "outputs": [
    {
     "data": {
      "text/plain": [
       "Timestamp('2016-01-04 00:00:00')"
      ]
     },
     "execution_count": 17,
     "metadata": {},
     "output_type": "execute_result"
    }
   ],
   "source": [
    "pd.to_datetime(data.Date)[0]"
   ]
  },
  {
   "cell_type": "code",
   "execution_count": 43,
   "metadata": {
    "ExecuteTime": {
     "end_time": "2021-01-15T02:46:53.407551Z",
     "start_time": "2021-01-15T02:46:44.766443Z"
    }
   },
   "outputs": [
    {
     "data": {
      "text/html": [
       "<div>\n",
       "<style scoped>\n",
       "    .dataframe tbody tr th:only-of-type {\n",
       "        vertical-align: middle;\n",
       "    }\n",
       "\n",
       "    .dataframe tbody tr th {\n",
       "        vertical-align: top;\n",
       "    }\n",
       "\n",
       "    .dataframe thead th {\n",
       "        text-align: right;\n",
       "    }\n",
       "</style>\n",
       "<table border=\"1\" class=\"dataframe\">\n",
       "  <thead>\n",
       "    <tr style=\"text-align: right;\">\n",
       "      <th></th>\n",
       "      <th>High</th>\n",
       "      <th>Low</th>\n",
       "      <th>Open</th>\n",
       "      <th>Close</th>\n",
       "      <th>Volume</th>\n",
       "      <th>Adj_Close</th>\n",
       "      <th>dif</th>\n",
       "      <th>Date</th>\n",
       "    </tr>\n",
       "    <tr>\n",
       "      <th>Date</th>\n",
       "      <th></th>\n",
       "      <th></th>\n",
       "      <th></th>\n",
       "      <th></th>\n",
       "      <th></th>\n",
       "      <th></th>\n",
       "      <th></th>\n",
       "      <th></th>\n",
       "    </tr>\n",
       "  </thead>\n",
       "  <tbody>\n",
       "    <tr>\n",
       "      <th>2016-01-04 00:00:00</th>\n",
       "      <td>3538.688965</td>\n",
       "      <td>3295.740967</td>\n",
       "      <td>3536.589111</td>\n",
       "      <td>3296.258057</td>\n",
       "      <td>1.844000e+05</td>\n",
       "      <td>3296.258057</td>\n",
       "      <td>0.000000</td>\n",
       "      <td>2016-01-04 00:00:00</td>\n",
       "    </tr>\n",
       "    <tr>\n",
       "      <th>2016-01-05 00:00:00</th>\n",
       "      <td>3328.138916</td>\n",
       "      <td>3189.604980</td>\n",
       "      <td>3196.650879</td>\n",
       "      <td>3287.710938</td>\n",
       "      <td>2.669000e+05</td>\n",
       "      <td>3287.710938</td>\n",
       "      <td>-8.547119</td>\n",
       "      <td>2016-01-05 00:00:00</td>\n",
       "    </tr>\n",
       "    <tr>\n",
       "      <th>2016-01-06 00:00:00</th>\n",
       "      <td>3362.974121</td>\n",
       "      <td>3288.933105</td>\n",
       "      <td>3291.195068</td>\n",
       "      <td>3361.840088</td>\n",
       "      <td>2.389000e+05</td>\n",
       "      <td>3361.840088</td>\n",
       "      <td>74.129150</td>\n",
       "      <td>2016-01-06 00:00:00</td>\n",
       "    </tr>\n",
       "    <tr>\n",
       "      <th>2016-01-07 00:00:00</th>\n",
       "      <td>3309.656982</td>\n",
       "      <td>3115.885010</td>\n",
       "      <td>3309.656982</td>\n",
       "      <td>3125.001953</td>\n",
       "      <td>7.060000e+04</td>\n",
       "      <td>3125.001953</td>\n",
       "      <td>-236.838135</td>\n",
       "      <td>2016-01-07 00:00:00</td>\n",
       "    </tr>\n",
       "    <tr>\n",
       "      <th>2016-01-08 00:00:00</th>\n",
       "      <td>3235.450928</td>\n",
       "      <td>3056.877930</td>\n",
       "      <td>3194.625000</td>\n",
       "      <td>3186.412109</td>\n",
       "      <td>2.864000e+05</td>\n",
       "      <td>3186.412109</td>\n",
       "      <td>61.410156</td>\n",
       "      <td>2016-01-08 00:00:00</td>\n",
       "    </tr>\n",
       "    <tr>\n",
       "      <th>...</th>\n",
       "      <td>...</td>\n",
       "      <td>...</td>\n",
       "      <td>...</td>\n",
       "      <td>...</td>\n",
       "      <td>...</td>\n",
       "      <td>...</td>\n",
       "      <td>...</td>\n",
       "      <td>...</td>\n",
       "    </tr>\n",
       "    <tr>\n",
       "      <th>2021-01-08 00:00:00</th>\n",
       "      <td>3588.062988</td>\n",
       "      <td>3544.891113</td>\n",
       "      <td>3577.691895</td>\n",
       "      <td>3570.107910</td>\n",
       "      <td>3.456000e+05</td>\n",
       "      <td>3570.107910</td>\n",
       "      <td>-6.097168</td>\n",
       "      <td>2021-01-08 00:00:00</td>\n",
       "    </tr>\n",
       "    <tr>\n",
       "      <th>2021-01-11 00:00:00</th>\n",
       "      <td>3597.701904</td>\n",
       "      <td>3516.986084</td>\n",
       "      <td>3571.321045</td>\n",
       "      <td>3531.498047</td>\n",
       "      <td>3.625000e+05</td>\n",
       "      <td>3531.498047</td>\n",
       "      <td>-38.609863</td>\n",
       "      <td>2021-01-11 00:00:00</td>\n",
       "    </tr>\n",
       "    <tr>\n",
       "      <th>2021-01-12 00:00:00</th>\n",
       "      <td>3608.340088</td>\n",
       "      <td>3517.469971</td>\n",
       "      <td>3518.010010</td>\n",
       "      <td>3608.340088</td>\n",
       "      <td>3.234000e+05</td>\n",
       "      <td>3608.340088</td>\n",
       "      <td>76.842041</td>\n",
       "      <td>2021-01-12 00:00:00</td>\n",
       "    </tr>\n",
       "    <tr>\n",
       "      <th>2021-01-13 00:00:00</th>\n",
       "      <td>3622.347900</td>\n",
       "      <td>3575.594971</td>\n",
       "      <td>3613.281006</td>\n",
       "      <td>3598.652100</td>\n",
       "      <td>3.881000e+05</td>\n",
       "      <td>3598.652100</td>\n",
       "      <td>-9.687988</td>\n",
       "      <td>2021-01-13 00:00:00</td>\n",
       "    </tr>\n",
       "    <tr>\n",
       "      <th>2021-01-15 00:00:00</th>\n",
       "      <td>3589.265381</td>\n",
       "      <td>3565.785889</td>\n",
       "      <td>3566.284668</td>\n",
       "      <td>3575.777832</td>\n",
       "      <td>2.398980e+09</td>\n",
       "      <td>3575.777832</td>\n",
       "      <td>-22.874268</td>\n",
       "      <td>2021-01-15 00:00:00</td>\n",
       "    </tr>\n",
       "  </tbody>\n",
       "</table>\n",
       "<p>1225 rows × 8 columns</p>\n",
       "</div>"
      ],
      "text/plain": [
       "                            High          Low         Open        Close  \\\n",
       "Date                                                                      \n",
       "2016-01-04 00:00:00  3538.688965  3295.740967  3536.589111  3296.258057   \n",
       "2016-01-05 00:00:00  3328.138916  3189.604980  3196.650879  3287.710938   \n",
       "2016-01-06 00:00:00  3362.974121  3288.933105  3291.195068  3361.840088   \n",
       "2016-01-07 00:00:00  3309.656982  3115.885010  3309.656982  3125.001953   \n",
       "2016-01-08 00:00:00  3235.450928  3056.877930  3194.625000  3186.412109   \n",
       "...                          ...          ...          ...          ...   \n",
       "2021-01-08 00:00:00  3588.062988  3544.891113  3577.691895  3570.107910   \n",
       "2021-01-11 00:00:00  3597.701904  3516.986084  3571.321045  3531.498047   \n",
       "2021-01-12 00:00:00  3608.340088  3517.469971  3518.010010  3608.340088   \n",
       "2021-01-13 00:00:00  3622.347900  3575.594971  3613.281006  3598.652100   \n",
       "2021-01-15 00:00:00  3589.265381  3565.785889  3566.284668  3575.777832   \n",
       "\n",
       "                           Volume    Adj_Close         dif  \\\n",
       "Date                                                         \n",
       "2016-01-04 00:00:00  1.844000e+05  3296.258057    0.000000   \n",
       "2016-01-05 00:00:00  2.669000e+05  3287.710938   -8.547119   \n",
       "2016-01-06 00:00:00  2.389000e+05  3361.840088   74.129150   \n",
       "2016-01-07 00:00:00  7.060000e+04  3125.001953 -236.838135   \n",
       "2016-01-08 00:00:00  2.864000e+05  3186.412109   61.410156   \n",
       "...                           ...          ...         ...   \n",
       "2021-01-08 00:00:00  3.456000e+05  3570.107910   -6.097168   \n",
       "2021-01-11 00:00:00  3.625000e+05  3531.498047  -38.609863   \n",
       "2021-01-12 00:00:00  3.234000e+05  3608.340088   76.842041   \n",
       "2021-01-13 00:00:00  3.881000e+05  3598.652100   -9.687988   \n",
       "2021-01-15 00:00:00  2.398980e+09  3575.777832  -22.874268   \n",
       "\n",
       "                                    Date  \n",
       "Date                                      \n",
       "2016-01-04 00:00:00  2016-01-04 00:00:00  \n",
       "2016-01-05 00:00:00  2016-01-05 00:00:00  \n",
       "2016-01-06 00:00:00  2016-01-06 00:00:00  \n",
       "2016-01-07 00:00:00  2016-01-07 00:00:00  \n",
       "2016-01-08 00:00:00  2016-01-08 00:00:00  \n",
       "...                                  ...  \n",
       "2021-01-08 00:00:00  2021-01-08 00:00:00  \n",
       "2021-01-11 00:00:00  2021-01-11 00:00:00  \n",
       "2021-01-12 00:00:00  2021-01-12 00:00:00  \n",
       "2021-01-13 00:00:00  2021-01-13 00:00:00  \n",
       "2021-01-15 00:00:00  2021-01-15 00:00:00  \n",
       "\n",
       "[1225 rows x 8 columns]"
      ]
     },
     "execution_count": 43,
     "metadata": {},
     "output_type": "execute_result"
    }
   ],
   "source": [
    "def update_data(security):\n",
    "    con = sql.connect('stock')\n",
    "    dates = pd.read_sql_query(\"SELECT Date from %s\"%security, con)\n",
    "    last_date = pd.Timestamp(dates.values[-1][0])\n",
    "    today = pd.Timestamp(datetime.today().date())\n",
    "    if today > last_date:\n",
    "        new_data = YahooReader(security,last_date,today)\n",
    "        insert_stocktable(new_data.iloc[1:,],con,security)\n",
    "\n",
    "    df = pd.read_sql_query(\"SELECT * from %s\"%security, con)\n",
    "    df.index = df.Date\n",
    "    con.close()\n",
    "    return df\n",
    "\n",
    "a = update_data('SSEC')\n",
    "a"
   ]
  },
  {
   "cell_type": "code",
   "execution_count": 25,
   "metadata": {
    "ExecuteTime": {
     "end_time": "2021-01-14T14:27:41.372070Z",
     "start_time": "2021-01-14T14:27:17.123019Z"
    }
   },
   "outputs": [],
   "source": [
    "def add_security(security):\n",
    "    today =  pd.Timestamp(datetime.today().date())\n",
    "    df = YahooReader(security,'2016-01-01',today)\n",
    "    con = sql.connect('stock')\n",
    "    make_stocktable(con,security)\n",
    "    insert_stocktable(df,con,security)\n",
    "    con.close()\n",
    "add_security(\"DJI\")"
   ]
  },
  {
   "cell_type": "code",
   "execution_count": 39,
   "metadata": {
    "ExecuteTime": {
     "end_time": "2021-01-15T02:45:31.176265Z",
     "start_time": "2021-01-15T02:45:21.747195Z"
    }
   },
   "outputs": [],
   "source": [
    "def renew_security(security,start_date):\n",
    "    today =  pd.Timestamp(datetime.today().date())\n",
    "    df = YahooReader(security,start_date,today)\n",
    "    con = sql.connect('stock')\n",
    "    con.execute(\"DELETE FROM {} WHERE Date >= '{}'\".format(security,start_date))\n",
    "    #insert_stocktable(df,con,security)\n",
    "    con.commit()\n",
    "    con.close()\n",
    "renew_security('SSEC','2020-01-12')    "
   ]
  },
  {
   "cell_type": "code",
   "execution_count": null,
   "metadata": {},
   "outputs": [],
   "source": []
  }
 ],
 "metadata": {
  "kernelspec": {
   "display_name": "Python 3",
   "language": "python",
   "name": "python3"
  },
  "language_info": {
   "codemirror_mode": {
    "name": "ipython",
    "version": 3
   },
   "file_extension": ".py",
   "mimetype": "text/x-python",
   "name": "python",
   "nbconvert_exporter": "python",
   "pygments_lexer": "ipython3",
   "version": "3.7.9"
  },
  "toc": {
   "base_numbering": 1,
   "nav_menu": {},
   "number_sections": true,
   "sideBar": true,
   "skip_h1_title": false,
   "title_cell": "Table of Contents",
   "title_sidebar": "Contents",
   "toc_cell": false,
   "toc_position": {},
   "toc_section_display": true,
   "toc_window_display": false
  },
  "varInspector": {
   "cols": {
    "lenName": 16,
    "lenType": 16,
    "lenVar": 40
   },
   "kernels_config": {
    "python": {
     "delete_cmd_postfix": "",
     "delete_cmd_prefix": "del ",
     "library": "var_list.py",
     "varRefreshCmd": "print(var_dic_list())"
    },
    "r": {
     "delete_cmd_postfix": ") ",
     "delete_cmd_prefix": "rm(",
     "library": "var_list.r",
     "varRefreshCmd": "cat(var_dic_list()) "
    }
   },
   "types_to_exclude": [
    "module",
    "function",
    "builtin_function_or_method",
    "instance",
    "_Feature"
   ],
   "window_display": false
  }
 },
 "nbformat": 4,
 "nbformat_minor": 4
}
