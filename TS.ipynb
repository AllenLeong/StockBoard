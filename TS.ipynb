{
 "cells": [
  {
   "cell_type": "markdown",
   "metadata": {},
   "source": [
    "# ARMA MODEL\n"
   ]
  },
  {
   "cell_type": "code",
   "execution_count": 11,
   "metadata": {
    "ExecuteTime": {
     "end_time": "2021-08-25T10:41:59.610214Z",
     "start_time": "2021-08-25T10:41:58.665592Z"
    }
   },
   "outputs": [],
   "source": [
    "import numpy as np\n",
    "import pandas as pd\n",
    "from scipy import stats\n",
    "from matplotlib import pyplot as plt \n",
    "import seaborn as sns\n",
    "sns.set_style(\"darkgrid\")\n",
    "import math\n",
    "from decimal import *\n",
    "getcontext().prec = 1"
   ]
  },
  {
   "cell_type": "markdown",
   "metadata": {},
   "source": [
    "## ARMAseries\n",
    "Given parameters some calculations"
   ]
  },
  {
   "cell_type": "code",
   "execution_count": 12,
   "metadata": {
    "ExecuteTime": {
     "end_time": "2021-08-25T10:41:59.647193Z",
     "start_time": "2021-08-25T10:41:59.612063Z"
    }
   },
   "outputs": [],
   "source": [
    "class ARMAseries:\n",
    "    def __init__(self,phi=[],theta=[]):\n",
    "        \"\"\"\n",
    "        we build a object here which we input theta and phi into it;\n",
    "        and we detect what series it is\n",
    "        \"\"\"\n",
    "        self.phi = phi\n",
    "        self.theta = theta\n",
    "        self.p = len(phi); self.q = len(theta)\n",
    "        self.type = \"AR(%d)MA(%d)\"%(self.p,self.q)\n",
    "\n",
    "    def acf(self):\n",
    "        \"\"\"\n",
    "        In this function we try to print the acf and avcf out;\n",
    "        the k denotes tht log and it defult to be 200 of which the\n",
    "        acf would mostly be 0 normally\n",
    "        But Now Only acf of MA model was Made..........Wait for updating\n",
    "        \"\"\"\n",
    "        theta = self.theta\n",
    "        phi = self.phi\n",
    "        # make a list of acf\n",
    "        acf = []\n",
    "        ############ if it is a MA(q)modle:######################\n",
    "        if self.p == 0 and self.q>0:\n",
    "            # function gamma_k(theta):\n",
    "            def cul_gamma(theta,q,k=100):\n",
    "                matrix = np.zeros((q+1,q+1));matrix[0,0] = 1\n",
    "                for i in range(q):matrix[0,i+1] = -theta[i]\n",
    "                for i in range(q):\n",
    "                    for k in range(q-i):\n",
    "                        matrix[i+1,k] = -theta[i]*-theta[i+k]\n",
    "                \"\"\"\n",
    "                we build a matrix like this:\n",
    "                |1        |-theta1        |-theta2|\n",
    "                |theta1**2|-theta1*-theta2|   0   |\n",
    "                |theta2**2|      0        |   0   |\n",
    "                gamma_0 = sum(matrix[:,0])\n",
    "                gamma_1 = sum(matrix[:,1])\n",
    "                gamma_2 = sum(matrix[:,1])\n",
    "                \"\"\"\n",
    "                gamma=[]\n",
    "                for k in range(q+1):\n",
    "                    gamma_k = 0\n",
    "                    for i in range(q+1):\n",
    "                        gamma_k += matrix[i,k]\n",
    "                    gamma.append(gamma_k)\n",
    "                return gamma\n",
    "\n",
    "\n",
    "            gamma = cul_gamma(theta,self.q)\n",
    "            for i in gamma: acf.append(i/gamma[0])\n",
    "\n",
    "        ############## if it is a AR(p) model#######################\n",
    "        # if self.p > 0 and self.q==0:\n",
    "        ############## if it is a ARMA(p,q) model #################\n",
    "        return {'acf':acf,\"acvf\":gamma}\n",
    "\n",
    "    def prediction(self,steps,Z,a,uptopoint,sigma2=1,alpha=0.05,intercept=None):\n",
    "        \"\"\"\n",
    "        Input:\n",
    "            steps: How many steps you want to predict; \n",
    "            Z: list of  Zt in order like [Z1,Z2,Z3];\n",
    "            a: list of error term in order [a1,a2,a3];\n",
    "            uptopoint: if Z3 were the lastest record uptopoint = 3;\n",
    "            sigma2: variance of error term;\n",
    "            alpha: credible level for predictions\n",
    "        Output:\n",
    "            pandas.DataFrame of predictions with colums of 'prediction','var','ci_low','ci_upper'\n",
    "        \n",
    "        \"\"\"\n",
    "        if intercept != None:\n",
    "            Z = [Z[i]-intercept for i in range(len(Z))]\n",
    "            \n",
    "        an = stats.norm(0,sigma2**(0.5))\n",
    "        Zl = np.zeros((1,uptopoint)).tolist()[0]\n",
    "        al = np.zeros((1,uptopoint)).tolist()[0]\n",
    "        Zl[:len(Z)] = Z[::-1]\n",
    "        al[:len(a)] = a[::-1]\n",
    "        \n",
    "        al_mean = al.copy() # for E(a) calculations\n",
    "        al_var = np.zeros((1,uptopoint)).tolist()[0] # for Var(a) calculation \n",
    "        \n",
    "        predictions = pd.DataFrame(columns=['prediction','var','ci_low','ci_upper'])\n",
    "            \n",
    "        phi = np.array(self.phi); theta = np.array(self.theta)\n",
    "        \n",
    "        theta2 = np.append(1,theta*-1)\n",
    "        theta2 = np.append(theta2,np.zeros((1,steps)))  # [1, -theta1, -theta2, ... , -thetaq]\n",
    "        phi2 = np.append(1,phi) # [1,phi1,phi2,..,phip]\n",
    "\n",
    "        mphi = np.zeros((len(theta2),len(phi2)+len(theta2)-1)).tolist()\n",
    "        mphi[0][:len(phi2)] = phi2\n",
    "        a_parameter = np.zeros((len(phi),len(theta2)))\n",
    "        for i in range(steps):\n",
    "            #############################################\n",
    "            # calculate the mean of prediction: \n",
    "            ar = phi*Zl[:len(phi)]              # AR part \n",
    "            ma = -theta*al_mean[:len(theta)]    # MA part \n",
    "            an = an \n",
    "            EZl = np.round(np.sum(ar)+ np.sum(ma)+an.mean(),5) \n",
    "            \n",
    "            Zl.insert(0,EZl)\n",
    "            al.insert(0,an)\n",
    "            al_var.insert(0,an.var())\n",
    "            al_mean.insert(0,an.mean())\n",
    "            \n",
    "            ##############################################\n",
    "            # calculate the var of predictions:\n",
    "            #The method is shown below:\n",
    "            #                              iteration1:                                      iteration2:\n",
    "            #           a_n(l)   a_n(l-1)  a_n(l-2)  ... a_n  a_n-1         a_n(l+1)   a_n(l)  a_n(l-1)  ... a_n  a_n-1\n",
    "            #            1       -theta1   -theta2        0     0             1       -theta1   -theta2        0     0 \n",
    "            #                                 +                                                      +\n",
    "            # phi1 *     0          0         0           0     0             0          1          x1        x2    xj\n",
    "            #                                 +                                                      +\n",
    "            # phi2 *     0          0         0           0     0             0           0          0         0     0 \n",
    "            #                                 =                                                      = \n",
    "            #            1          x1        x2          xj    xj-1          1          x*1        x*2       x*j   x*j-1\n",
    "            \n",
    "            v = [phi[i]*a_parameter[i] for i in range(len(phi))]\n",
    "            v = np.sum(v,axis=0)\n",
    "            v = v+theta2\n",
    "            variance = np.round(sum(v**2*al_var[:len(v)]),5)\n",
    "            for j in range(len(v)):\n",
    "                if al_var[j] == 0:\n",
    "                    v[j]=0    # rid the parameter of deterministic errro terms\n",
    "            v = v.tolist()\n",
    "            v.pop()   \n",
    "            v.insert(0,0) # for next error predicted\n",
    "            a_parameter = a_parameter.tolist()\n",
    "            a_parameter.pop()\n",
    "            new = a_parameter[0][:-1];new.insert(0,0)# for next error predicted\n",
    "            a_parameter[0] = new # for next error predicted\n",
    "            a_parameter.insert(0,v) # a_parameter treat it as a stack frist in later out  \n",
    "            a_parameter = np.array(a_parameter)\n",
    "            # calculate the interval\n",
    "            if intercept != None:\n",
    "                EZl = EZl+intercept\n",
    "            rv = stats.norm(0,1)\n",
    "            Z_alpha = np.round(rv.ppf(1-alpha/2),2)\n",
    "            ci = (EZl-Z_alpha*np.sqrt(variance),EZl+Z_alpha*np.sqrt(variance))\n",
    "            print('Zl:',i+1,'| mean:', EZl,\" | Variance:\" ,variance , \" | Credible interval:\", ci)\n",
    "            prediction = pd.DataFrame([[EZl,variance,ci[0],ci[1]]], columns=['prediction','var','ci_low','ci_upper'],index=[uptopoint+1+i])\n",
    "            predictions=predictions.append(prediction)\n",
    "        return predictions\n",
    "    \n",
    "    def generate_serise(self,n,sigma2):\n",
    "        \"\"\"\n",
    "        \n",
    "        \"\"\"\n",
    "        a_stack = np.zeros((1,n))[0]\n",
    "        \n",
    "        Z_stack = np.zeros((1,n))[0]\n",
    "        \n",
    "        theta = np.array(self.theta);phi = np.array(self.phi)\n",
    "        rv = stats.norm(0,sigma2**0.5)\n",
    "        for i in range(n):\n",
    "            ar = phi * Z_stack[:len(phi)]\n",
    "            ma = -theta * a_stack[:len(theta)]\n",
    "            ai = rv.rvs() \n",
    "            zi = np.sum(ar)+np.sum(ma) + ai\n",
    "            a_stack = a_stack.tolist()\n",
    "            a_stack.pop()\n",
    "            a_stack.insert(0,ai)\n",
    "            a_stack = np.array(a_stack)\n",
    "            Z_stack = Z_stack.tolist()\n",
    "            Z_stack.pop()\n",
    "            Z_stack.insert(0,zi)\n",
    "            Z_stack = np.array(Z_stack)\n",
    "        Z_stack = Z_stack.tolist() ; a_stack = a_stack.tolist()\n",
    "        return Z_stack[::-1], a_stack[::-1]\n",
    "\n",
    "    "
   ]
  },
  {
   "cell_type": "code",
   "execution_count": 13,
   "metadata": {
    "ExecuteTime": {
     "end_time": "2021-08-25T10:41:59.894258Z",
     "start_time": "2021-08-25T10:41:59.650068Z"
    }
   },
   "outputs": [],
   "source": [
    "ts = ARMAseries(phi=[1.5,-0.75],theta=[])\n",
    "z,a = ts.generate_serise(1000,sigma2=1)"
   ]
  },
  {
   "cell_type": "code",
   "execution_count": 14,
   "metadata": {
    "ExecuteTime": {
     "end_time": "2021-08-25T10:41:59.946623Z",
     "start_time": "2021-08-25T10:41:59.896109Z"
    }
   },
   "outputs": [
    {
     "name": "stdout",
     "output_type": "stream",
     "text": [
      "Zl: 1 | mean: 0.31  | Variance: 1.0  | Credible interval: (-1.65, 2.27)\n",
      "Zl: 2 | mean: 0.333  | Variance: 1.09  | Credible interval: (-1.7133000757464678, 2.379300075746468)\n",
      "Zl: 3 | mean: 0.4289  | Variance: 1.0901  | Credible interval: (-1.6174939405696058, 2.475293940569606)\n"
     ]
    },
    {
     "data": {
      "text/html": [
       "<div>\n",
       "<style scoped>\n",
       "    .dataframe tbody tr th:only-of-type {\n",
       "        vertical-align: middle;\n",
       "    }\n",
       "\n",
       "    .dataframe tbody tr th {\n",
       "        vertical-align: top;\n",
       "    }\n",
       "\n",
       "    .dataframe thead th {\n",
       "        text-align: right;\n",
       "    }\n",
       "</style>\n",
       "<table border=\"1\" class=\"dataframe\">\n",
       "  <thead>\n",
       "    <tr style=\"text-align: right;\">\n",
       "      <th></th>\n",
       "      <th>prediction</th>\n",
       "      <th>var</th>\n",
       "      <th>ci_low</th>\n",
       "      <th>ci_upper</th>\n",
       "    </tr>\n",
       "  </thead>\n",
       "  <tbody>\n",
       "    <tr>\n",
       "      <th>81</th>\n",
       "      <td>0.3100</td>\n",
       "      <td>1.0000</td>\n",
       "      <td>-1.650000</td>\n",
       "      <td>2.270000</td>\n",
       "    </tr>\n",
       "    <tr>\n",
       "      <th>82</th>\n",
       "      <td>0.3330</td>\n",
       "      <td>1.0900</td>\n",
       "      <td>-1.713300</td>\n",
       "      <td>2.379300</td>\n",
       "    </tr>\n",
       "    <tr>\n",
       "      <th>83</th>\n",
       "      <td>0.4289</td>\n",
       "      <td>1.0901</td>\n",
       "      <td>-1.617494</td>\n",
       "      <td>2.475294</td>\n",
       "    </tr>\n",
       "  </tbody>\n",
       "</table>\n",
       "</div>"
      ],
      "text/plain": [
       "    prediction     var    ci_low  ci_upper\n",
       "81      0.3100  1.0000 -1.650000  2.270000\n",
       "82      0.3330  1.0900 -1.713300  2.379300\n",
       "83      0.4289  1.0901 -1.617494  2.475294"
      ]
     },
     "execution_count": 14,
     "metadata": {},
     "output_type": "execute_result"
    }
   ],
   "source": [
    "ts = ARMAseries(phi=[0.3,-0.1,0.2],theta=[])\n",
    "ts.prediction(steps=3,Z=[-0.1,2.1,1.8],a=[],uptopoint=80,sigma2=1,alpha=0.05,intercept=0)"
   ]
  },
  {
   "cell_type": "code",
   "execution_count": 15,
   "metadata": {
    "ExecuteTime": {
     "end_time": "2021-08-25T10:41:59.958624Z",
     "start_time": "2021-08-25T10:41:59.950620Z"
    }
   },
   "outputs": [
    {
     "data": {
      "text/plain": [
       "{'acf': [1.0, 0.22304832713754646, -0.1858736059479554],\n",
       " 'acvf': [2.69, 0.6, -0.5]}"
      ]
     },
     "execution_count": 15,
     "metadata": {},
     "output_type": "execute_result"
    }
   ],
   "source": [
    "ts = ARMAseries(phi=[],theta=[-1.2,0.5])\n",
    "ts.acf()"
   ]
  },
  {
   "cell_type": "code",
   "execution_count": 16,
   "metadata": {
    "ExecuteTime": {
     "end_time": "2021-08-25T10:41:59.972621Z",
     "start_time": "2021-08-25T10:41:59.961618Z"
    }
   },
   "outputs": [
    {
     "data": {
      "text/plain": [
       "1.6975911182032692"
      ]
     },
     "execution_count": 16,
     "metadata": {},
     "output_type": "execute_result"
    }
   ],
   "source": [
    "0.3*1.8-0.1*2.1-0.2*0.1\n",
    "0.3*0.31-0.1*1.8+0.2*2.1\n",
    "0.3**2*1.09+0.1**2+1\n",
    "0.7/1.1\n",
    "0.7*0.6364-0.1\n",
    "0.7*0.3455-0.1*0.6364\n",
    "1/(1-0.7*0.6364+0.1*0.3455)"
   ]
  },
  {
   "cell_type": "code",
   "execution_count": 17,
   "metadata": {
    "ExecuteTime": {
     "end_time": "2021-08-25T10:41:59.982619Z",
     "start_time": "2021-08-25T10:41:59.975619Z"
    }
   },
   "outputs": [
    {
     "data": {
      "text/plain": [
       "0.10497172478793591"
      ]
     },
     "execution_count": 17,
     "metadata": {},
     "output_type": "execute_result"
    }
   ],
   "source": [
    "0.1782/1.6976"
   ]
  },
  {
   "cell_type": "markdown",
   "metadata": {},
   "source": [
    "## Residual Analysis"
   ]
  },
  {
   "cell_type": "code",
   "execution_count": 46,
   "metadata": {
    "ExecuteTime": {
     "end_time": "2021-08-25T10:47:45.941330Z",
     "start_time": "2021-08-25T10:47:45.917332Z"
    }
   },
   "outputs": [],
   "source": [
    "class Analysis:\n",
    "    def _init_(self):\n",
    "        self.name = ''\n",
    "\n",
    "    def Ljung_Box(residual_acf,nparameter,nsize,k,alpha=0.05):\n",
    "        \"\"\"\n",
    "        input:list of residual acf, number of the parameters, size of the data, K lag and the credible level alpha\n",
    "        Output:a dictionary:{'Q_values','P_value','test_result'}\n",
    "        \"\"\"\n",
    "        dt = np.dtype(np.float32)\n",
    "        residual_acf = np.array(residual_acf,dtype=dt)\n",
    "        Q = nsize*(nsize+2)\n",
    "        x=0\n",
    "        for i in range(k):\n",
    "            x +=(residual_acf[i]**2)/(nsize-1-i)\n",
    "        Q = np.round(Q*x,4)\n",
    "        P = np.round(stats.chi2.pdf(Q, k-nparameter),4)\n",
    "        test = \"accept\" if P<alpha else \"reject\"\n",
    "        line = \"-\"*40\n",
    "        print(line)\n",
    "        print(\"| Ljung_Box_test\",'n=%d'%nsize,\"K=%d\"%k,\"m=%d\"%nparameter)\n",
    "        print(line)\n",
    "        print(\"| Q_value:\",\"|\",Q)\n",
    "        print(line)\n",
    "        print(\"| P_value \",\"|\",1-P)\n",
    "        print(line)\n",
    "        print(\"| test    \",\"|\",test)\n",
    "        print(line)\n",
    "        print(\"null hypothesis: the error terms have no correlation\")\n",
    "        return {'Q_values':Q,'P_value':1-P,'test_result':test}\n",
    "\n",
    "    def Bartlets_apprx(acf_list,nsize=0,acftype='acf',k=20,alpha=0.05):\n",
    "        \"\"\"\n",
    "        input: acf list, size of data, k lags, confidence level\n",
    "        output: Bartlet's approximation\n",
    "        \"\"\"\n",
    "        B_list = []\n",
    "        z = stats.norm.ppf(alpha/2)\n",
    "        if nsize==0: nsize= len(acf_list)\n",
    "        for m in range(k):\n",
    "            x = 1\n",
    "            for i in range(m):\n",
    "                x += 2*(acf_list[i]**2)\n",
    "\n",
    "            B = np.round(z/(nsize**(0.5))*(x**(0.5)),4)\n",
    "            B_interval = (-B,B) if B>0 else (B,-B)\n",
    "            B_list.append(B_interval)\n",
    "        fig = plt.figure(figsize=(12,5))\n",
    "        plt.plot((0,len(acf_list)+1),(0,0),color = 'black')\n",
    "        for i in range(len(acf_list)):\n",
    "            plt.plot((i+1,i+1),(0,acf_list[i]),color=\"blue\")\n",
    "            plt.plot(i+1,acf_list[i],color=\"blue\",marker=\"o\")\n",
    "        #print(\" Bartlet's approximation:\", B_list)\n",
    "        plt.plot([int(i+1) for i in range(len(B_list))],[i[1] for i in B_list],color = 'red')\n",
    "        plt.plot([int(i+1) for i in range(len(B_list))],[i[0] for i in B_list],color = 'red')\n",
    "        plt.title(acftype.upper()+\"& Bartlet's approximation\")\n",
    "        plt.ylabel(acftype.upper());plt.xlabel('Lag')\n",
    "        return B_list"
   ]
  },
  {
   "cell_type": "code",
   "execution_count": 47,
   "metadata": {
    "ExecuteTime": {
     "end_time": "2021-08-25T10:47:51.468322Z",
     "start_time": "2021-08-25T10:47:51.183324Z"
    }
   },
   "outputs": [
    {
     "name": "stdout",
     "output_type": "stream",
     "text": [
      "----------------------------------------\n",
      "| Ljung_Box_test n=99 K=8 m=2\n",
      "----------------------------------------\n",
      "| Q_value: | 28.0723\n",
      "----------------------------------------\n",
      "| P_value  | 1.0\n",
      "----------------------------------------\n",
      "| test     | accept\n",
      "----------------------------------------\n",
      "null hypothesis: the error terms have no correlation\n"
     ]
    },
    {
     "data": {
      "text/plain": [
       "[(-0.197, 0.197),\n",
       " (-0.2381, 0.2381),\n",
       " (-0.2385, 0.2385),\n",
       " (-0.2386, 0.2386),\n",
       " (-0.241, 0.241),\n",
       " (-0.242, 0.242),\n",
       " (-0.2421, 0.2421),\n",
       " (-0.2426, 0.2426)]"
      ]
     },
     "execution_count": 47,
     "metadata": {},
     "output_type": "execute_result"
    },
    {
     "data": {
      "image/png": "[encoded data removed]",
      "text/plain": [
       "<Figure size 864x360 with 1 Axes>"
      ]
     },
     "metadata": {},
     "output_type": "display_data"
    }
   ],
   "source": [
    "residual_acf = [0.48 ,0.05 ,-0.03 ,-0.12 ,-0.08 ,-0.02 ,-0.06 ,-0.12]\n",
    "Analysis.Ljung_Box(residual_acf, 2,99,8,0.05)\n",
    "B = Analysis.Bartlets_apprx(residual_acf,nsize=99,k=8)\n",
    "B"
   ]
  },
  {
   "cell_type": "code",
   "execution_count": 20,
   "metadata": {
    "ExecuteTime": {
     "end_time": "2021-08-25T10:42:00.505172Z",
     "start_time": "2021-08-25T10:42:00.498174Z"
    }
   },
   "outputs": [
    {
     "data": {
      "text/plain": [
       "1.44"
      ]
     },
     "execution_count": 20,
     "metadata": {},
     "output_type": "execute_result"
    }
   ],
   "source": [
    "1.2**2"
   ]
  },
  {
   "cell_type": "code",
   "execution_count": 21,
   "metadata": {
    "ExecuteTime": {
     "end_time": "2021-08-25T10:42:00.763665Z",
     "start_time": "2021-08-25T10:42:00.508172Z"
    }
   },
   "outputs": [
    {
     "data": {
      "text/plain": [
       "[<matplotlib.lines.Line2D at 0x15ff9758048>]"
      ]
     },
     "execution_count": 21,
     "metadata": {},
     "output_type": "execute_result"
    },
    {
     "data": {
      "image/png": "[encoded data removed]",
      "text/plain": [
       "<Figure size 432x288 with 1 Axes>"
      ]
     },
     "metadata": {},
     "output_type": "display_data"
    }
   ],
   "source": [
    "def f(x):\n",
    "    return 1-1.5*x+0.75*x**2\n",
    "x =np.linspace(0,2,100)\n",
    "plt.plot(x,f(x))"
   ]
  },
  {
   "cell_type": "markdown",
   "metadata": {},
   "source": [
    "## Iuput data"
   ]
  },
  {
   "cell_type": "code",
   "execution_count": 22,
   "metadata": {
    "ExecuteTime": {
     "end_time": "2021-08-25T10:42:00.774666Z",
     "start_time": "2021-08-25T10:42:00.765662Z"
    }
   },
   "outputs": [],
   "source": [
    "class ARMAdata:\n",
    "    def __init__(self,tsd):\n",
    "        \"\"\"\n",
    "        \"\"\"\n",
    "        self.data = tsd\n",
    "\n",
    "    def acf(self,lag):\n",
    "        tsd = self.data\n",
    "        n = len(tsd)\n",
    "        gamma = []\n",
    "        gamma_0 = np.var(tsd)\n",
    "        for k in range(lag):\n",
    "            zk = tsd[k+1:]\n",
    "            zt = tsd[:n-k-1]\n",
    "            gamma_k =  sum([(zk[i]-np.mean(tsd))*(zt[i]-np.mean(tsd)) for i in range(n-k-1)])/gamma_0\n",
    "            gamma.append(gamma_k)\n",
    "\n",
    "        return gamma"
   ]
  },
  {
   "cell_type": "markdown",
   "metadata": {},
   "source": [
    "## Ts_sample\n",
    "Given sample somes calculations"
   ]
  },
  {
   "cell_type": "code",
   "execution_count": 40,
   "metadata": {
    "ExecuteTime": {
     "end_time": "2021-08-25T10:44:01.914193Z",
     "start_time": "2021-08-25T10:44:01.896191Z"
    }
   },
   "outputs": [],
   "source": [
    "class ts_sample:\n",
    "    def __init__(self,data):\n",
    "        self.name='Time Series from sampling data'\n",
    "        self.data =data \n",
    "        self.acf = self.acf()[1:]\n",
    "        self.pacf = self.pacf_kk(self.acf)\n",
    "    \n",
    "    def plot(self):\n",
    "        data = self.data\n",
    "        plt.figure(figsize = (14,6))\n",
    "        plt.plot(data, color = 'black',marker=\".\")\n",
    "        plt.show()\n",
    "            \n",
    "    def acf(self):\n",
    "        \"\"\"\n",
    "        sample autocorrelation function\n",
    "        \"\"\"\n",
    "        tsdata = self.data\n",
    "        n = len(tsdata)\n",
    "        k = n if n <20 else 20\n",
    "        acf_list = []\n",
    "\n",
    "        varz = sum((tsdata-np.mean(tsdata))**2)\n",
    "        barz = np.mean(tsdata)\n",
    "        for i in range(k):\n",
    "            zt = tsdata[0:n-i]\n",
    "            zt_k = tsdata[i:]\n",
    "            rk = sum((zt-barz)*(zt_k-barz))/varz\n",
    "            acf_list.append(rk)\n",
    "        #print(acf_list)\n",
    "        return acf_list\n",
    "\n",
    "    def pacfk(self,acf_list,k):\n",
    "        \"\"\"\n",
    "        use acf to culculate partial autocorrelation Yule-Walker equations\n",
    "        \"\"\"\n",
    "        n = len(acf_list)\n",
    "        rho_v = np.array(acf_list)\n",
    "        rho_m = np.ones((n,n))\n",
    "        for i in range(n):\n",
    "            for j in range(n):\n",
    "                if i ==j : rho_m[i,j]=1\n",
    "                elif i < j: rho_m[i,j] = acf_list[j-i-1]\n",
    "                elif i >j : rho_m[i,j] = acf_list[i-j-1]\n",
    "        #print(rho_m,rho_v)\n",
    "        #print(np.linalg.inv(rho_m[0:k,0:k]))\n",
    "        pacf_v = np.dot(np.linalg.inv(rho_m[0:k,0:k]),rho_v[:k].reshape(-1,1))\n",
    "        #print(pacf_v)\n",
    "        return pacf_v\n",
    "    \n",
    "    def pacf_kk(self,acf_list):\n",
    "        pacf_kk_list = []\n",
    "        for i in range(1,len(acf_list)+1):\n",
    "            pacf_list = self.pacfk(acf_list,i)\n",
    "            pacf_kk_list.append(pacf_list[-1])\n",
    "        return pacf_kk_list\n",
    "    \n",
    "#    def plot_acf(self):\n",
    "#        Analysis.Bartlets_apprx(self.acf[:20],len(self.data),'acf')\n",
    "#    def plot_pacf(self):\n",
    "#        Analysis.Bartlets_apprx(self.pacf[:20],len(self.data),'pacf')"
   ]
  },
  {
   "cell_type": "code",
   "execution_count": 24,
   "metadata": {
    "ExecuteTime": {
     "end_time": "2021-08-25T10:42:01.289281Z",
     "start_time": "2021-08-25T10:42:00.805666Z"
    }
   },
   "outputs": [],
   "source": [
    "ts = ARMAseries(phi=[0.6],theta=[-0.3])\n",
    "z,a = ts.generate_serise(100,sigma2=1)\n",
    "a = ts_sample(z)"
   ]
  },
  {
   "cell_type": "code",
   "execution_count": 25,
   "metadata": {
    "ExecuteTime": {
     "end_time": "2021-08-25T10:42:01.306281Z",
     "start_time": "2021-08-25T10:42:01.290281Z"
    }
   },
   "outputs": [
    {
     "data": {
      "text/plain": [
       "[array([0.53086074]),\n",
       " array([-0.09485489]),\n",
       " array([0.1141851]),\n",
       " array([-0.22490645]),\n",
       " array([-0.34158938]),\n",
       " array([-0.14626247]),\n",
       " array([-0.06942156]),\n",
       " array([0.26852985]),\n",
       " array([-0.21713988]),\n",
       " array([0.0008724]),\n",
       " array([-0.11464999]),\n",
       " array([-0.15921159]),\n",
       " array([-0.00799951]),\n",
       " array([-0.06717715]),\n",
       " array([0.07549883])]"
      ]
     },
     "execution_count": 25,
     "metadata": {},
     "output_type": "execute_result"
    }
   ],
   "source": [
    "a = ts_sample([20,22,28,24,24,27,27,24,22,19,21,18,20,22,23,22])\n",
    "a.acf\n",
    "a.pacf"
   ]
  },
  {
   "cell_type": "code",
   "execution_count": 26,
   "metadata": {
    "ExecuteTime": {
     "end_time": "2021-08-25T10:42:01.329796Z",
     "start_time": "2021-08-25T10:42:01.308800Z"
    }
   },
   "outputs": [
    {
     "data": {
      "text/plain": [
       "22.6875"
      ]
     },
     "execution_count": 26,
     "metadata": {},
     "output_type": "execute_result"
    }
   ],
   "source": [
    "np.mean([20,22,28,24,24,27,27,24,22,19,21,18,20,22,23,22])"
   ]
  },
  {
   "cell_type": "code",
   "execution_count": 27,
   "metadata": {
    "ExecuteTime": {
     "end_time": "2021-08-25T10:42:01.340801Z",
     "start_time": "2021-08-25T10:42:01.332799Z"
    }
   },
   "outputs": [
    {
     "data": {
      "text/plain": [
       "0.21875000000000003"
      ]
     },
     "execution_count": 27,
     "metadata": {},
     "output_type": "execute_result"
    }
   ],
   "source": [
    "(0.6**2-0.5)/(0.6**2-1)"
   ]
  },
  {
   "cell_type": "code",
   "execution_count": 28,
   "metadata": {
    "ExecuteTime": {
     "end_time": "2021-08-25T10:42:01.349802Z",
     "start_time": "2021-08-25T10:42:01.343798Z"
    }
   },
   "outputs": [
    {
     "data": {
      "text/plain": [
       "8.98"
      ]
     },
     "execution_count": 28,
     "metadata": {},
     "output_type": "execute_result"
    }
   ],
   "source": [
    "(1+2.2**2+1.7**2+0.5**2)"
   ]
  },
  {
   "cell_type": "code",
   "execution_count": 29,
   "metadata": {
    "ExecuteTime": {
     "end_time": "2021-08-25T10:42:01.365829Z",
     "start_time": "2021-08-25T10:42:01.352799Z"
    }
   },
   "outputs": [
    {
     "data": {
      "text/plain": [
       "[array([1.2727]), array([1.30672902])]"
      ]
     },
     "execution_count": 29,
     "metadata": {},
     "output_type": "execute_result"
    }
   ],
   "source": [
    "a.pacf_kk([1.2727,0.8099])"
   ]
  },
  {
   "cell_type": "code",
   "execution_count": 37,
   "metadata": {
    "ExecuteTime": {
     "end_time": "2021-08-25T10:42:16.401264Z",
     "start_time": "2021-08-25T10:42:16.384737Z"
    }
   },
   "outputs": [],
   "source": [
    "from DatabaseManagement import *\n",
    "df = get_data(\"AAPL\")"
   ]
  },
  {
   "cell_type": "code",
   "execution_count": 80,
   "metadata": {
    "ExecuteTime": {
     "end_time": "2021-08-25T10:54:15.403027Z",
     "start_time": "2021-08-25T10:54:15.397027Z"
    }
   },
   "outputs": [
    {
     "ename": "SyntaxError",
     "evalue": "invalid syntax (<ipython-input-80-f81e998c01b3>, line 1)",
     "output_type": "error",
     "traceback": [
      "\u001b[1;36m  File \u001b[1;32m\"<ipython-input-80-f81e998c01b3>\"\u001b[1;36m, line \u001b[1;32m1\u001b[0m\n\u001b[1;33m    sequence = df[\"Adj_Close\"]dif().values[-65:]\u001b[0m\n\u001b[1;37m                                ^\u001b[0m\n\u001b[1;31mSyntaxError\u001b[0m\u001b[1;31m:\u001b[0m invalid syntax\n"
     ]
    }
   ],
   "source": [
    "sequence = df[\"Adj_Close\"].dif().values[-65:]\n",
    "ts_squence = ts_sample(sequence)"
   ]
  },
  {
   "cell_type": "code",
   "execution_count": 77,
   "metadata": {
    "ExecuteTime": {
     "end_time": "2021-08-25T10:53:57.619627Z",
     "start_time": "2021-08-25T10:53:57.353998Z"
    }
   },
   "outputs": [
    {
     "data": {
      "image/png": "[encoded data removed]",
      "text/plain": [
       "<Figure size 1008x432 with 1 Axes>"
      ]
     },
     "metadata": {},
     "output_type": "display_data"
    }
   ],
   "source": [
    "ts_squence.plot()"
   ]
  },
  {
   "cell_type": "code",
   "execution_count": 78,
   "metadata": {
    "ExecuteTime": {
     "end_time": "2021-08-25T10:54:01.835545Z",
     "start_time": "2021-08-25T10:54:01.557968Z"
    }
   },
   "outputs": [
    {
     "data": {
      "text/plain": [
       "[(-0.4496, 0.4496),\n",
       " (-0.7582, 0.7582),\n",
       " (-0.9571, 0.9571),\n",
       " (-1.1092, 1.1092),\n",
       " (-1.2329, 1.2329),\n",
       " (-1.3364, 1.3364),\n",
       " (-1.4221, 1.4221),\n",
       " (-1.4928, 1.4928),\n",
       " (-1.5497, 1.5497),\n",
       " (-1.5961, 1.5961),\n",
       " (-1.6344, 1.6344),\n",
       " (-1.6659, 1.6659),\n",
       " (-1.6913, 1.6913),\n",
       " (-1.7114, 1.7114),\n",
       " (-1.7271, 1.7271),\n",
       " (-1.7392, 1.7392),\n",
       " (-1.7477, 1.7477),\n",
       " (-1.7533, 1.7533),\n",
       " (-1.7568, 1.7568),\n",
       " (-1.7586, 1.7586)]"
      ]
     },
     "execution_count": 78,
     "metadata": {},
     "output_type": "execute_result"
    },
    {
     "data": {
      "image/png": "[encoded data removed]",
      "text/plain": [
       "<Figure size 864x360 with 1 Axes>"
      ]
     },
     "metadata": {},
     "output_type": "display_data"
    }
   ],
   "source": [
    "Analysis.Bartlets_apprx(ts_squence.acf)"
   ]
  },
  {
   "cell_type": "code",
   "execution_count": 79,
   "metadata": {
    "ExecuteTime": {
     "end_time": "2021-08-25T10:54:02.442379Z",
     "start_time": "2021-08-25T10:54:02.103774Z"
    }
   },
   "outputs": [
    {
     "name": "stderr",
     "output_type": "stream",
     "text": [
      "d:\\python37\\lib\\site-packages\\numpy\\core\\_asarray.py:136: VisibleDeprecationWarning: Creating an ndarray from ragged nested sequences (which is a list-or-tuple of lists-or-tuples-or ndarrays with different lengths or shapes) is deprecated. If you meant to do this, you must specify 'dtype=object' when creating the ndarray\n",
      "  return array(a, dtype, copy=False, order=order, subok=True)\n",
      "d:\\python37\\lib\\site-packages\\numpy\\core\\_asarray.py:136: VisibleDeprecationWarning: Creating an ndarray from ragged nested sequences (which is a list-or-tuple of lists-or-tuples-or ndarrays with different lengths or shapes) is deprecated. If you meant to do this, you must specify 'dtype=object' when creating the ndarray\n",
      "  return array(a, dtype, copy=False, order=order, subok=True)\n",
      "d:\\python37\\lib\\site-packages\\numpy\\core\\_asarray.py:136: VisibleDeprecationWarning: Creating an ndarray from ragged nested sequences (which is a list-or-tuple of lists-or-tuples-or ndarrays with different lengths or shapes) is deprecated. If you meant to do this, you must specify 'dtype=object' when creating the ndarray\n",
      "  return array(a, dtype, copy=False, order=order, subok=True)\n",
      "d:\\python37\\lib\\site-packages\\numpy\\core\\_asarray.py:136: VisibleDeprecationWarning: Creating an ndarray from ragged nested sequences (which is a list-or-tuple of lists-or-tuples-or ndarrays with different lengths or shapes) is deprecated. If you meant to do this, you must specify 'dtype=object' when creating the ndarray\n",
      "  return array(a, dtype, copy=False, order=order, subok=True)\n",
      "d:\\python37\\lib\\site-packages\\numpy\\core\\_asarray.py:136: VisibleDeprecationWarning: Creating an ndarray from ragged nested sequences (which is a list-or-tuple of lists-or-tuples-or ndarrays with different lengths or shapes) is deprecated. If you meant to do this, you must specify 'dtype=object' when creating the ndarray\n",
      "  return array(a, dtype, copy=False, order=order, subok=True)\n",
      "d:\\python37\\lib\\site-packages\\numpy\\core\\_asarray.py:136: VisibleDeprecationWarning: Creating an ndarray from ragged nested sequences (which is a list-or-tuple of lists-or-tuples-or ndarrays with different lengths or shapes) is deprecated. If you meant to do this, you must specify 'dtype=object' when creating the ndarray\n",
      "  return array(a, dtype, copy=False, order=order, subok=True)\n",
      "d:\\python37\\lib\\site-packages\\numpy\\core\\_asarray.py:136: VisibleDeprecationWarning: Creating an ndarray from ragged nested sequences (which is a list-or-tuple of lists-or-tuples-or ndarrays with different lengths or shapes) is deprecated. If you meant to do this, you must specify 'dtype=object' when creating the ndarray\n",
      "  return array(a, dtype, copy=False, order=order, subok=True)\n",
      "d:\\python37\\lib\\site-packages\\numpy\\core\\_asarray.py:136: VisibleDeprecationWarning: Creating an ndarray from ragged nested sequences (which is a list-or-tuple of lists-or-tuples-or ndarrays with different lengths or shapes) is deprecated. If you meant to do this, you must specify 'dtype=object' when creating the ndarray\n",
      "  return array(a, dtype, copy=False, order=order, subok=True)\n",
      "d:\\python37\\lib\\site-packages\\numpy\\core\\_asarray.py:136: VisibleDeprecationWarning: Creating an ndarray from ragged nested sequences (which is a list-or-tuple of lists-or-tuples-or ndarrays with different lengths or shapes) is deprecated. If you meant to do this, you must specify 'dtype=object' when creating the ndarray\n",
      "  return array(a, dtype, copy=False, order=order, subok=True)\n",
      "d:\\python37\\lib\\site-packages\\numpy\\core\\_asarray.py:136: VisibleDeprecationWarning: Creating an ndarray from ragged nested sequences (which is a list-or-tuple of lists-or-tuples-or ndarrays with different lengths or shapes) is deprecated. If you meant to do this, you must specify 'dtype=object' when creating the ndarray\n",
      "  return array(a, dtype, copy=False, order=order, subok=True)\n",
      "d:\\python37\\lib\\site-packages\\numpy\\core\\_asarray.py:136: VisibleDeprecationWarning: Creating an ndarray from ragged nested sequences (which is a list-or-tuple of lists-or-tuples-or ndarrays with different lengths or shapes) is deprecated. If you meant to do this, you must specify 'dtype=object' when creating the ndarray\n",
      "  return array(a, dtype, copy=False, order=order, subok=True)\n",
      "d:\\python37\\lib\\site-packages\\numpy\\core\\_asarray.py:136: VisibleDeprecationWarning: Creating an ndarray from ragged nested sequences (which is a list-or-tuple of lists-or-tuples-or ndarrays with different lengths or shapes) is deprecated. If you meant to do this, you must specify 'dtype=object' when creating the ndarray\n",
      "  return array(a, dtype, copy=False, order=order, subok=True)\n",
      "d:\\python37\\lib\\site-packages\\numpy\\core\\_asarray.py:136: VisibleDeprecationWarning: Creating an ndarray from ragged nested sequences (which is a list-or-tuple of lists-or-tuples-or ndarrays with different lengths or shapes) is deprecated. If you meant to do this, you must specify 'dtype=object' when creating the ndarray\n",
      "  return array(a, dtype, copy=False, order=order, subok=True)\n",
      "d:\\python37\\lib\\site-packages\\numpy\\core\\_asarray.py:136: VisibleDeprecationWarning: Creating an ndarray from ragged nested sequences (which is a list-or-tuple of lists-or-tuples-or ndarrays with different lengths or shapes) is deprecated. If you meant to do this, you must specify 'dtype=object' when creating the ndarray\n",
      "  return array(a, dtype, copy=False, order=order, subok=True)\n",
      "d:\\python37\\lib\\site-packages\\numpy\\core\\_asarray.py:136: VisibleDeprecationWarning: Creating an ndarray from ragged nested sequences (which is a list-or-tuple of lists-or-tuples-or ndarrays with different lengths or shapes) is deprecated. If you meant to do this, you must specify 'dtype=object' when creating the ndarray\n",
      "  return array(a, dtype, copy=False, order=order, subok=True)\n",
      "d:\\python37\\lib\\site-packages\\numpy\\core\\_asarray.py:136: VisibleDeprecationWarning: Creating an ndarray from ragged nested sequences (which is a list-or-tuple of lists-or-tuples-or ndarrays with different lengths or shapes) is deprecated. If you meant to do this, you must specify 'dtype=object' when creating the ndarray\n",
      "  return array(a, dtype, copy=False, order=order, subok=True)\n",
      "d:\\python37\\lib\\site-packages\\numpy\\core\\_asarray.py:136: VisibleDeprecationWarning: Creating an ndarray from ragged nested sequences (which is a list-or-tuple of lists-or-tuples-or ndarrays with different lengths or shapes) is deprecated. If you meant to do this, you must specify 'dtype=object' when creating the ndarray\n",
      "  return array(a, dtype, copy=False, order=order, subok=True)\n",
      "d:\\python37\\lib\\site-packages\\numpy\\core\\_asarray.py:136: VisibleDeprecationWarning: Creating an ndarray from ragged nested sequences (which is a list-or-tuple of lists-or-tuples-or ndarrays with different lengths or shapes) is deprecated. If you meant to do this, you must specify 'dtype=object' when creating the ndarray\n",
      "  return array(a, dtype, copy=False, order=order, subok=True)\n",
      "d:\\python37\\lib\\site-packages\\numpy\\core\\_asarray.py:136: VisibleDeprecationWarning: Creating an ndarray from ragged nested sequences (which is a list-or-tuple of lists-or-tuples-or ndarrays with different lengths or shapes) is deprecated. If you meant to do this, you must specify 'dtype=object' when creating the ndarray\n",
      "  return array(a, dtype, copy=False, order=order, subok=True)\n",
      "d:\\python37\\lib\\site-packages\\numpy\\core\\_asarray.py:136: VisibleDeprecationWarning: Creating an ndarray from ragged nested sequences (which is a list-or-tuple of lists-or-tuples-or ndarrays with different lengths or shapes) is deprecated. If you meant to do this, you must specify 'dtype=object' when creating the ndarray\n",
      "  return array(a, dtype, copy=False, order=order, subok=True)\n"
     ]
    },
    {
     "data": {
      "text/plain": [
       "[(-0.4496, 0.4496),\n",
       " (array([-0.7582]), array([0.7582])),\n",
       " (array([-0.7585]), array([0.7585])),\n",
       " (array([-0.7588]), array([0.7588])),\n",
       " (array([-0.7588]), array([0.7588])),\n",
       " (array([-0.7589]), array([0.7589])),\n",
       " (array([-0.765]), array([0.765])),\n",
       " (array([-0.7672]), array([0.7672])),\n",
       " (array([-0.773]), array([0.773])),\n",
       " (array([-0.7732]), array([0.7732])),\n",
       " (array([-0.7733]), array([0.7733])),\n",
       " (array([-0.7734]), array([0.7734])),\n",
       " (array([-0.7735]), array([0.7735])),\n",
       " (array([-0.7735]), array([0.7735])),\n",
       " (array([-0.7735]), array([0.7735])),\n",
       " (array([-0.7735]), array([0.7735])),\n",
       " (array([-0.7825]), array([0.7825])),\n",
       " (array([-0.7828]), array([0.7828])),\n",
       " (array([-0.7829]), array([0.7829])),\n",
       " (array([-0.7829]), array([0.7829]))]"
      ]
     },
     "execution_count": 79,
     "metadata": {},
     "output_type": "execute_result"
    },
    {
     "data": {
      "image/png": "[encoded data removed]",
      "text/plain": [
       "<Figure size 864x360 with 1 Axes>"
      ]
     },
     "metadata": {},
     "output_type": "display_data"
    }
   ],
   "source": [
    "Analysis.Bartlets_apprx(ts_squence.pacf)"
   ]
  },
  {
   "cell_type": "code",
   "execution_count": 72,
   "metadata": {
    "ExecuteTime": {
     "end_time": "2021-08-25T10:53:18.688249Z",
     "start_time": "2021-08-25T10:53:18.659263Z"
    }
   },
   "outputs": [
    {
     "data": {
      "text/plain": [
       "[array([0.99622806]),\n",
       " array([0.02556497]),\n",
       " array([0.00159282]),\n",
       " array([0.0159515]),\n",
       " array([-0.00165427]),\n",
       " array([-0.0312456]),\n",
       " array([0.00040702]),\n",
       " array([-0.00700698]),\n",
       " array([0.00735921]),\n",
       " array([0.00066769]),\n",
       " array([0.00321488]),\n",
       " array([-0.00467297]),\n",
       " array([-0.00315292]),\n",
       " array([0.00460668]),\n",
       " array([-0.01065036]),\n",
       " array([-0.0017616]),\n",
       " array([0.00136515]),\n",
       " array([0.00738838]),\n",
       " array([-0.03147329])]"
      ]
     },
     "execution_count": 72,
     "metadata": {},
     "output_type": "execute_result"
    }
   ],
   "source": [
    "ts_squence.pacf"
   ]
  },
  {
   "cell_type": "code",
   "execution_count": null,
   "metadata": {},
   "outputs": [],
   "source": []
  }
 ],
 "metadata": {
  "kernelspec": {
   "display_name": "Python 3",
   "language": "python",
   "name": "python3"
  },
  "language_info": {
   "codemirror_mode": {
    "name": "ipython",
    "version": 3
   },
   "file_extension": ".py",
   "mimetype": "text/x-python",
   "name": "python",
   "nbconvert_exporter": "python",
   "pygments_lexer": "ipython3",
   "version": "3.7.9"
  },
  "toc": {
   "base_numbering": " 1",
   "nav_menu": {},
   "number_sections": true,
   "sideBar": true,
   "skip_h1_title": true,
   "title_cell": "Table of Contents",
   "title_sidebar": "Contents",
   "toc_cell": false,
   "toc_position": {},
   "toc_section_display": true,
   "toc_window_display": true
  },
  "varInspector": {
   "cols": {
    "lenName": 16,
    "lenType": 16,
    "lenVar": 40
   },
   "kernels_config": {
    "python": {
     "delete_cmd_postfix": "",
     "delete_cmd_prefix": "del ",
     "library": "var_list.py",
     "varRefreshCmd": "print(var_dic_list())"
    },
    "r": {
     "delete_cmd_postfix": ") ",
     "delete_cmd_prefix": "rm(",
     "library": "var_list.r",
     "varRefreshCmd": "cat(var_dic_list()) "
    }
   },
   "types_to_exclude": [
    "module",
    "function",
    "builtin_function_or_method",
    "instance",
    "_Feature"
   ],
   "window_display": false
  }
 },
 "nbformat": 4,
 "nbformat_minor": 2
}
